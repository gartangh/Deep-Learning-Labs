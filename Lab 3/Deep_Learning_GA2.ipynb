{
  "nbformat": 4,
  "nbformat_minor": 0,
  "metadata": {
    "colab": {
      "name": "hand_in.ipynb",
      "provenance": [],
      "collapsed_sections": []
    },
    "kernelspec": {
      "name": "python3",
      "display_name": "Python 3"
    },
    "accelerator": "GPU"
  },
  "cells": [
    {
      "cell_type": "markdown",
      "metadata": {
        "id": "syicn1gTKa6C",
        "colab_type": "text"
      },
      "source": [
        "# Provided Code"
      ]
    },
    {
      "cell_type": "code",
      "metadata": {
        "id": "KAN7aedvjj4z",
        "colab_type": "code",
        "outputId": "4f94277b-298b-4329-9680-7644210c7e6a",
        "colab": {
          "base_uri": "https://localhost:8080/",
          "height": 51
        }
      },
      "source": [
        "#imports and Drive mounting\n",
        "try:\n",
        "  # %tensorflow_version only exists in Colab.\n",
        "  %tensorflow_version 2.x\n",
        "except Exception:\n",
        "  pass\n",
        "\n",
        "# TensorFlow and tf.keras\n",
        "import tensorflow as tf\n",
        "from tensorflow import keras\n",
        "\n",
        "print(tf.__version__)\n",
        "\n",
        "# Helper libraries\n",
        "import numpy as np\n",
        "import matplotlib.pyplot as plt\n",
        "import sklearn as sk\n",
        "import pandas as pd\n",
        "import os\n",
        "\n",
        "# fix random seed for reproducibility\n",
        "seed = 2020\n",
        "np.random.seed(seed)  \n",
        "\n",
        "from sklearn.model_selection import train_test_split\n",
        "\n",
        "from tensorflow.keras.datasets import cifar100\n",
        "from tensorflow.keras.utils import to_categorical\n",
        "from tensorflow.keras.preprocessing.image import ImageDataGenerator\n",
        "from tensorflow.keras.models import Sequential\n",
        "from tensorflow.keras.layers import Dense, Dropout, Flatten, BatchNormalization, Activation\n",
        "from tensorflow.keras.layers import Conv2D, MaxPooling2D, GlobalMaxPooling2D\n",
        "from tensorflow.keras.optimizers import Adam, Adamax\n",
        "from tensorflow.keras.callbacks import EarlyStopping, ModelCheckpoint\n",
        "from tensorflow.keras.models import load_model\n",
        "from tensorflow.keras.constraints import MaxNorm\n",
        "from tensorflow.keras.layers import Input, Add\n",
        "from tensorflow.keras.models import Model\n",
        "from tensorflow.keras.regularizers import l2"
      ],
      "execution_count": 1,
      "outputs": [
        {
          "output_type": "stream",
          "text": [
            "TensorFlow 2.x selected.\n",
            "2.1.0\n"
          ],
          "name": "stdout"
        }
      ]
    },
    {
      "cell_type": "code",
      "metadata": {
        "id": "tGIwUnVInurG",
        "colab_type": "code",
        "outputId": "7338f5b3-dae6-452f-b293-e05dc5a6bf37",
        "colab": {
          "base_uri": "https://localhost:8080/",
          "height": 123
        }
      },
      "source": [
        "from google.colab import drive\n",
        "drive.mount('/content/gdrive')"
      ],
      "execution_count": 2,
      "outputs": [
        {
          "output_type": "stream",
          "text": [
            "Go to this URL in a browser: https://accounts.google.com/o/oauth2/auth?client_id=947318989803-6bn6qk8qdgf4n4g3pfee6491hc0brc4i.apps.googleusercontent.com&redirect_uri=urn%3aietf%3awg%3aoauth%3a2.0%3aoob&response_type=code&scope=email%20https%3a%2f%2fwww.googleapis.com%2fauth%2fdocs.test%20https%3a%2f%2fwww.googleapis.com%2fauth%2fdrive%20https%3a%2f%2fwww.googleapis.com%2fauth%2fdrive.photos.readonly%20https%3a%2f%2fwww.googleapis.com%2fauth%2fpeopleapi.readonly\n",
            "\n",
            "Enter your authorization code:\n",
            "··········\n",
            "Mounted at /content/gdrive\n"
          ],
          "name": "stdout"
        }
      ]
    },
    {
      "cell_type": "code",
      "metadata": {
        "id": "2bHIXiGlnuxC",
        "colab_type": "code",
        "colab": {}
      },
      "source": [
        "# helper functions for visualisation\n",
        "def plot_history(history):\n",
        "  plt.figure(figsize = (12,4))\n",
        "  plt.subplot(1,2,1)\n",
        "\n",
        "  plt.xlabel('Epoch')\n",
        "  plt.ylabel('Accuracy')\n",
        "  plt.plot(history.epoch, np.array(history.history['accuracy']),'g-',\n",
        "           label='Train accuracy')\n",
        "  plt.plot(history.epoch, np.array(history.history['val_accuracy']),'r-',\n",
        "           label = 'Validation accuracy')\n",
        "  plt.ylim([0.0,1.0])\n",
        "  plt.legend()\n",
        "\n",
        "  plt.subplot(1,2,2)\n",
        "  plt.xlabel('Epoch')\n",
        "  plt.ylabel('Loss minimised by model')\n",
        "  plt.plot(history.epoch, np.array(history.history['loss']),'g-',\n",
        "           label='Train loss')\n",
        "  plt.plot(history.epoch, np.array(history.history['val_loss']),'r-',\n",
        "           label = 'Validation loss')\n",
        "  plt.legend()"
      ],
      "execution_count": 0,
      "outputs": []
    },
    {
      "cell_type": "code",
      "metadata": {
        "id": "7P-2_C8xnu0D",
        "colab_type": "code",
        "outputId": "86ccc18a-9a6f-4d16-a770-bd08d1f2ee56",
        "colab": {
          "base_uri": "https://localhost:8080/",
          "height": 34
        }
      },
      "source": [
        "# Load the data: CIFAR100 with 20 class labels\n",
        "(x_train_all, r_train_all_class), ( _ , _ ) = cifar100.load_data(label_mode='coarse')\n",
        "\n",
        "num_classes = 20\n",
        "\n",
        "# let's again take a subset of the training data first, for playing around\n",
        "# Note that such a subset is only useful if it can guide your tuning process,\n",
        "# i.e., if it leads you to similar decisions as you would make on the whole training set\n",
        "\n",
        "# And we do the same standardization as in the first assignment\n",
        "x_train_all = x_train_all.astype('float32')\n",
        "\n",
        "x_train_all /= 255.0\n",
        "\n",
        "# the labels from the downloaded data are integer numbers\n",
        "# for a multi-class classification task, we again convert each integer\n",
        "# to a vector with 19 zeros and a single '1', corresponding to the right class\n",
        "r_train_all = to_categorical(r_train_all_class, num_classes)\n",
        "\n",
        "\n",
        "# Labels\n",
        "labels = [\n",
        "'aquatic mammals',\n",
        "'fish',\n",
        "'flowers',\n",
        "'food containers',\n",
        "'fruit and vegetables',\n",
        "'household electrical devices',\n",
        "'household furniture',\n",
        "'insects',\n",
        "'large carnivores',\n",
        "'large man-made outdoor things',\n",
        "'large natural outdoor scenes',\n",
        "'large omnivores and herbivores',\n",
        "'medium-sized mammals',\n",
        "'non-insect invertebrates',\n",
        "'people',\n",
        "'reptiles',\n",
        "'small mammals',\n",
        "'trees',\n",
        "'vehicles 1',\n",
        "'vehicles 2'\n",
        "]\n",
        "\n",
        "print('x_train_all shape:', x_train_all.shape)"
      ],
      "execution_count": 6,
      "outputs": [
        {
          "output_type": "stream",
          "text": [
            "x_train_all shape: (50000, 32, 32, 3)\n"
          ],
          "name": "stdout"
        }
      ]
    },
    {
      "cell_type": "markdown",
      "metadata": {
        "id": "DDsT0tIXgfcj",
        "colab_type": "text"
      },
      "source": [
        "# ConvNet"
      ]
    },
    {
      "cell_type": "code",
      "metadata": {
        "id": "nq6oGltbnZ3L",
        "colab_type": "code",
        "colab": {}
      },
      "source": [
        "# Then, add regularization\n",
        "def regularized_model(learning_rate=0.001):\n",
        "  model = Sequential([\n",
        "    # 1\n",
        "    Conv2D(64, (3,3), padding='same', kernel_initializer='he_uniform', kernel_constraint=MaxNorm(), input_shape=(32,32,3)),\n",
        "    BatchNormalization(momentum=0.95),\n",
        "    Activation('relu'),\n",
        "    \n",
        "    # 2\n",
        "    Conv2D(64, (3,3), padding='same', kernel_initializer='he_uniform', kernel_constraint=MaxNorm()),\n",
        "    BatchNormalization(momentum=0.95),\n",
        "    Activation('relu'),\n",
        "\n",
        "    # First Maxpooling\n",
        "    MaxPooling2D(pool_size=(2,2), strides=2),\n",
        "\n",
        "    # 3\n",
        "    Conv2D(128, (3,3), padding='same', kernel_initializer='he_uniform', kernel_constraint=MaxNorm()),\n",
        "    BatchNormalization(momentum=0.95),\n",
        "    Activation('relu'),\n",
        "\n",
        "    # 4\n",
        "    Conv2D(128, (3,3), padding='same', kernel_initializer='he_uniform', kernel_constraint=MaxNorm()),\n",
        "    BatchNormalization(momentum=0.95),\n",
        "    Activation('relu'),\n",
        "\n",
        "    # Second Maxpooling\n",
        "    MaxPooling2D(pool_size=(2,2), strides=2),\n",
        "\n",
        "    # 5\n",
        "    Conv2D(256, (3,3), padding='same', kernel_initializer='he_uniform', kernel_constraint=MaxNorm()),\n",
        "    BatchNormalization(momentum=0.95),\n",
        "    Activation('relu'),\n",
        "\n",
        "    # 6\n",
        "    Conv2D(256, (3,3), padding='same', kernel_initializer='he_uniform', kernel_constraint=MaxNorm()),\n",
        "    BatchNormalization(momentum=0.95),\n",
        "    Activation('relu'),\n",
        "\n",
        "    # Third Maxpooling\n",
        "    MaxPooling2D(pool_size=(2,2), strides=2),\n",
        "\n",
        "    Flatten(),\n",
        "    # Dropout\n",
        "    Dropout(0.25),\n",
        "    Dense(num_classes),\n",
        "    Activation('softmax')\n",
        "  ])\n",
        "\n",
        "  opt = Adam(learning_rate=learning_rate)\n",
        "\n",
        "  model.compile(loss='categorical_crossentropy',\n",
        "                optimizer=opt,\n",
        "                metrics=['accuracy'])\n",
        "\n",
        "  return model"
      ],
      "execution_count": 0,
      "outputs": []
    },
    {
      "cell_type": "code",
      "metadata": {
        "id": "VErWm1t_tXT6",
        "colab_type": "code",
        "outputId": "157de542-7527-406f-d192-4cce25e435ea",
        "colab": {
          "base_uri": "https://localhost:8080/",
          "height": 1000
        }
      },
      "source": [
        "# train on all data\n",
        "model = regularized_model(learning_rate=0.0005)\n",
        "model.summary()\n",
        "\n",
        "batch_size=256\n",
        "epochs=50\n",
        "\n",
        "# data augmentation\n",
        "datagen = ImageDataGenerator(\n",
        "        # rotation_range=22.5,\n",
        "        # width_shift_range=0.25,\n",
        "        # height_shift_range=0.25,\n",
        "        zoom_range=0.25,\n",
        "        horizontal_flip=True,\n",
        "        vertical_flip=False,\n",
        "        fill_mode='nearest')\n",
        "\n",
        "history = model.fit(datagen.flow(x_train_all, r_train_all, batch_size=batch_size),\n",
        "          epochs=epochs,\n",
        "          shuffle=True)"
      ],
      "execution_count": 13,
      "outputs": [
        {
          "output_type": "stream",
          "text": [
            "Model: \"sequential\"\n",
            "_________________________________________________________________\n",
            "Layer (type)                 Output Shape              Param #   \n",
            "=================================================================\n",
            "conv2d_7 (Conv2D)            (None, 32, 32, 64)        1792      \n",
            "_________________________________________________________________\n",
            "batch_normalization_7 (Batch (None, 32, 32, 64)        256       \n",
            "_________________________________________________________________\n",
            "activation_8 (Activation)    (None, 32, 32, 64)        0         \n",
            "_________________________________________________________________\n",
            "conv2d_8 (Conv2D)            (None, 32, 32, 64)        36928     \n",
            "_________________________________________________________________\n",
            "batch_normalization_8 (Batch (None, 32, 32, 64)        256       \n",
            "_________________________________________________________________\n",
            "activation_9 (Activation)    (None, 32, 32, 64)        0         \n",
            "_________________________________________________________________\n",
            "max_pooling2d_3 (MaxPooling2 (None, 16, 16, 64)        0         \n",
            "_________________________________________________________________\n",
            "conv2d_9 (Conv2D)            (None, 16, 16, 128)       73856     \n",
            "_________________________________________________________________\n",
            "batch_normalization_9 (Batch (None, 16, 16, 128)       512       \n",
            "_________________________________________________________________\n",
            "activation_10 (Activation)   (None, 16, 16, 128)       0         \n",
            "_________________________________________________________________\n",
            "conv2d_10 (Conv2D)           (None, 16, 16, 128)       147584    \n",
            "_________________________________________________________________\n",
            "batch_normalization_10 (Batc (None, 16, 16, 128)       512       \n",
            "_________________________________________________________________\n",
            "activation_11 (Activation)   (None, 16, 16, 128)       0         \n",
            "_________________________________________________________________\n",
            "max_pooling2d_4 (MaxPooling2 (None, 8, 8, 128)         0         \n",
            "_________________________________________________________________\n",
            "conv2d_11 (Conv2D)           (None, 8, 8, 256)         295168    \n",
            "_________________________________________________________________\n",
            "batch_normalization_11 (Batc (None, 8, 8, 256)         1024      \n",
            "_________________________________________________________________\n",
            "activation_12 (Activation)   (None, 8, 8, 256)         0         \n",
            "_________________________________________________________________\n",
            "conv2d_12 (Conv2D)           (None, 8, 8, 256)         590080    \n",
            "_________________________________________________________________\n",
            "batch_normalization_12 (Batc (None, 8, 8, 256)         1024      \n",
            "_________________________________________________________________\n",
            "activation_13 (Activation)   (None, 8, 8, 256)         0         \n",
            "_________________________________________________________________\n",
            "max_pooling2d_5 (MaxPooling2 (None, 4, 4, 256)         0         \n",
            "_________________________________________________________________\n",
            "flatten_1 (Flatten)          (None, 4096)              0         \n",
            "_________________________________________________________________\n",
            "dropout_1 (Dropout)          (None, 4096)              0         \n",
            "_________________________________________________________________\n",
            "dense_3 (Dense)              (None, 20)                81940     \n",
            "_________________________________________________________________\n",
            "activation_14 (Activation)   (None, 20)                0         \n",
            "=================================================================\n",
            "Total params: 1,230,932\n",
            "Trainable params: 1,229,140\n",
            "Non-trainable params: 1,792\n",
            "_________________________________________________________________\n",
            "WARNING:tensorflow:sample_weight modes were coerced from\n",
            "  ...\n",
            "    to  \n",
            "  ['...']\n",
            "Train for 196 steps\n",
            "Epoch 1/50\n",
            "196/196 [==============================] - 34s 174ms/step - loss: 2.4379 - accuracy: 0.2848\n",
            "Epoch 2/50\n",
            "196/196 [==============================] - 32s 162ms/step - loss: 1.9713 - accuracy: 0.3950\n",
            "Epoch 3/50\n",
            "196/196 [==============================] - 32s 161ms/step - loss: 1.7620 - accuracy: 0.4499\n",
            "Epoch 4/50\n",
            "196/196 [==============================] - 32s 161ms/step - loss: 1.6094 - accuracy: 0.4941\n",
            "Epoch 5/50\n",
            "196/196 [==============================] - 31s 161ms/step - loss: 1.4910 - accuracy: 0.5300\n",
            "Epoch 6/50\n",
            "196/196 [==============================] - 32s 161ms/step - loss: 1.4007 - accuracy: 0.5565\n",
            "Epoch 7/50\n",
            "196/196 [==============================] - 32s 161ms/step - loss: 1.3153 - accuracy: 0.5838\n",
            "Epoch 8/50\n",
            "196/196 [==============================] - 32s 163ms/step - loss: 1.2469 - accuracy: 0.6023\n",
            "Epoch 9/50\n",
            "196/196 [==============================] - 32s 162ms/step - loss: 1.1909 - accuracy: 0.6213\n",
            "Epoch 10/50\n",
            "196/196 [==============================] - 32s 162ms/step - loss: 1.1350 - accuracy: 0.6366\n",
            "Epoch 11/50\n",
            "196/196 [==============================] - 32s 162ms/step - loss: 1.0888 - accuracy: 0.6494\n",
            "Epoch 12/50\n",
            "196/196 [==============================] - 32s 163ms/step - loss: 1.0423 - accuracy: 0.6640\n",
            "Epoch 13/50\n",
            "196/196 [==============================] - 32s 163ms/step - loss: 0.9984 - accuracy: 0.6781\n",
            "Epoch 14/50\n",
            "196/196 [==============================] - 32s 163ms/step - loss: 0.9561 - accuracy: 0.6920\n",
            "Epoch 15/50\n",
            "196/196 [==============================] - 32s 163ms/step - loss: 0.9268 - accuracy: 0.7014\n",
            "Epoch 16/50\n",
            "196/196 [==============================] - 32s 163ms/step - loss: 0.8926 - accuracy: 0.7130\n",
            "Epoch 17/50\n",
            "196/196 [==============================] - 32s 163ms/step - loss: 0.8649 - accuracy: 0.7193\n",
            "Epoch 18/50\n",
            "196/196 [==============================] - 32s 162ms/step - loss: 0.8253 - accuracy: 0.7317\n",
            "Epoch 19/50\n",
            "196/196 [==============================] - 32s 163ms/step - loss: 0.8012 - accuracy: 0.7402\n",
            "Epoch 20/50\n",
            "196/196 [==============================] - 32s 163ms/step - loss: 0.7740 - accuracy: 0.7465\n",
            "Epoch 21/50\n",
            "196/196 [==============================] - 32s 164ms/step - loss: 0.7445 - accuracy: 0.7552\n",
            "Epoch 22/50\n",
            "196/196 [==============================] - 32s 163ms/step - loss: 0.7237 - accuracy: 0.7633\n",
            "Epoch 23/50\n",
            "196/196 [==============================] - 32s 163ms/step - loss: 0.7041 - accuracy: 0.7684\n",
            "Epoch 24/50\n",
            "196/196 [==============================] - 32s 163ms/step - loss: 0.6817 - accuracy: 0.7758\n",
            "Epoch 25/50\n",
            "196/196 [==============================] - 32s 164ms/step - loss: 0.6533 - accuracy: 0.7858\n",
            "Epoch 26/50\n",
            "196/196 [==============================] - 32s 162ms/step - loss: 0.6329 - accuracy: 0.7924\n",
            "Epoch 27/50\n",
            "196/196 [==============================] - 32s 162ms/step - loss: 0.6172 - accuracy: 0.7974\n",
            "Epoch 28/50\n",
            "196/196 [==============================] - 32s 163ms/step - loss: 0.5980 - accuracy: 0.8015\n",
            "Epoch 29/50\n",
            "196/196 [==============================] - 32s 163ms/step - loss: 0.5792 - accuracy: 0.8080\n",
            "Epoch 30/50\n",
            "196/196 [==============================] - 32s 163ms/step - loss: 0.5604 - accuracy: 0.8135\n",
            "Epoch 31/50\n",
            "196/196 [==============================] - 32s 163ms/step - loss: 0.5474 - accuracy: 0.8176\n",
            "Epoch 32/50\n",
            "196/196 [==============================] - 32s 163ms/step - loss: 0.5273 - accuracy: 0.8232\n",
            "Epoch 33/50\n",
            "196/196 [==============================] - 32s 163ms/step - loss: 0.5066 - accuracy: 0.8322\n",
            "Epoch 34/50\n",
            "196/196 [==============================] - 32s 163ms/step - loss: 0.4996 - accuracy: 0.8332\n",
            "Epoch 35/50\n",
            "196/196 [==============================] - 32s 163ms/step - loss: 0.4779 - accuracy: 0.8414\n",
            "Epoch 36/50\n",
            "196/196 [==============================] - 32s 163ms/step - loss: 0.4703 - accuracy: 0.8429\n",
            "Epoch 37/50\n",
            "196/196 [==============================] - 32s 162ms/step - loss: 0.4504 - accuracy: 0.8492\n",
            "Epoch 38/50\n",
            "196/196 [==============================] - 32s 162ms/step - loss: 0.4400 - accuracy: 0.8532\n",
            "Epoch 39/50\n",
            "196/196 [==============================] - 32s 162ms/step - loss: 0.4363 - accuracy: 0.8540\n",
            "Epoch 40/50\n",
            "196/196 [==============================] - 32s 163ms/step - loss: 0.4210 - accuracy: 0.8553\n",
            "Epoch 41/50\n",
            "196/196 [==============================] - 32s 163ms/step - loss: 0.4024 - accuracy: 0.8640\n",
            "Epoch 42/50\n",
            "196/196 [==============================] - 32s 164ms/step - loss: 0.3930 - accuracy: 0.8680\n",
            "Epoch 43/50\n",
            "196/196 [==============================] - 32s 163ms/step - loss: 0.3825 - accuracy: 0.8697\n",
            "Epoch 44/50\n",
            "196/196 [==============================] - 32s 164ms/step - loss: 0.3733 - accuracy: 0.8746\n",
            "Epoch 45/50\n",
            "196/196 [==============================] - 32s 163ms/step - loss: 0.3615 - accuracy: 0.8780\n",
            "Epoch 46/50\n",
            "196/196 [==============================] - 32s 163ms/step - loss: 0.3626 - accuracy: 0.8768\n",
            "Epoch 47/50\n",
            "196/196 [==============================] - 32s 164ms/step - loss: 0.3515 - accuracy: 0.8806\n",
            "Epoch 48/50\n",
            "196/196 [==============================] - 32s 164ms/step - loss: 0.3356 - accuracy: 0.8873\n",
            "Epoch 49/50\n",
            "196/196 [==============================] - 32s 164ms/step - loss: 0.3257 - accuracy: 0.8905\n",
            "Epoch 50/50\n",
            "196/196 [==============================] - 32s 164ms/step - loss: 0.3254 - accuracy: 0.8894\n"
          ],
          "name": "stdout"
        }
      ]
    },
    {
      "cell_type": "code",
      "metadata": {
        "id": "pjfKyBENtaRy",
        "colab_type": "code",
        "outputId": "6b3a398f-a1bd-478e-8ef8-df20277436b9",
        "colab": {
          "base_uri": "https://localhost:8080/",
          "height": 296
        }
      },
      "source": [
        "plt.figure(figsize = (12,4))\n",
        "plt.subplot(1,2,1)\n",
        "\n",
        "plt.xlabel('Epoch')\n",
        "plt.ylabel('Accuracy')\n",
        "plt.plot(history.epoch, np.array(history.history['accuracy']),'g-',\n",
        "        label='Train accuracy')\n",
        "plt.legend()\n",
        "\n",
        "plt.subplot(1,2,2)\n",
        "plt.xlabel('Epoch')\n",
        "plt.ylabel('Loss minimised by model')\n",
        "plt.plot(history.epoch, np.array(history.history['loss']),'g-',\n",
        "        label='Train loss')\n",
        "plt.legend()"
      ],
      "execution_count": 14,
      "outputs": [
        {
          "output_type": "execute_result",
          "data": {
            "text/plain": [
              "<matplotlib.legend.Legend at 0x7fab79836d68>"
            ]
          },
          "metadata": {
            "tags": []
          },
          "execution_count": 14
        },
        {
          "output_type": "display_data",
          "data": {
            "image/png": "[encoded data removed]",
            "text/plain": [
              "<Figure size 864x288 with 2 Axes>"
            ]
          },
          "metadata": {
            "tags": []
          }
        }
      ]
    },
    {
      "cell_type": "code",
      "metadata": {
        "id": "gP_wsQQmthKy",
        "colab_type": "code",
        "outputId": "63310b6d-8337-4ffe-b6b7-b1369a6a4076",
        "colab": {
          "base_uri": "https://localhost:8080/",
          "height": 34
        }
      },
      "source": [
        "# the file type for storing complete models is \".h5\"\n",
        "# feel free to change the path to whatever suits you best!\n",
        "checkpoint_dir = \"/content/gdrive/My Drive/Colab Notebooks/DL2020/GA2/\"\n",
        "modelpath = checkpoint_dir+\"convnet.h5\"\n",
        "print(\"Final model saved as \",modelpath)\n",
        "\n",
        "# Save entire model to a HDF5 file\n",
        "model.save(modelpath)"
      ],
      "execution_count": 15,
      "outputs": [
        {
          "output_type": "stream",
          "text": [
            "Final model saved as  /content/gdrive/My Drive/Colab Notebooks/DL2020/GA2/convnet.h5\n"
          ],
          "name": "stdout"
        }
      ]
    },
    {
      "cell_type": "code",
      "metadata": {
        "id": "1UeGZ2BUtjNW",
        "colab_type": "code",
        "outputId": "86f3443c-143d-4a87-c28c-98b4bfb67f94",
        "colab": {
          "base_uri": "https://localhost:8080/",
          "height": 69
        }
      },
      "source": [
        "# The code below should give the same results as that for the original model\n",
        "[train_loss, train_accuracy] = model.evaluate(x_train_all, r_train_all, verbose=0)\n",
        "print(\"Training set Accuracy:{:7.2f}\".format(train_accuracy))\n",
        "print(\"Training set Loss:{:7.4f}\\n\".format(train_loss))"
      ],
      "execution_count": 16,
      "outputs": [
        {
          "output_type": "stream",
          "text": [
            "Training set Accuracy:   0.92\n",
            "Training set Loss: 0.2436\n",
            "\n"
          ],
          "name": "stdout"
        }
      ]
    },
    {
      "cell_type": "markdown",
      "metadata": {
        "id": "_Bt4YcGRbrli",
        "colab_type": "text"
      },
      "source": [
        "# ResNet"
      ]
    },
    {
      "cell_type": "code",
      "metadata": {
        "id": "DrVhnXLdblPV",
        "colab_type": "code",
        "colab": {}
      },
      "source": [
        "# using skip connections\n",
        "def residual_model(learning_rate=0.001):\n",
        "  img_input = Input(shape=(32,32,3))\n",
        "\n",
        "  # 1\n",
        "  x = Conv2D(128, (3,3), padding='same', kernel_initializer='he_uniform', kernel_constraint=MaxNorm())(img_input)\n",
        "  x = BatchNormalization(momentum=0.95)(x)\n",
        "  xskip = Activation('elu')(x)\n",
        "  \n",
        "  # 2\n",
        "  x = Conv2D(128, (3,3), padding='same', kernel_initializer='he_uniform', kernel_constraint=MaxNorm())(xskip)\n",
        "  x = BatchNormalization(momentum=0.95)(x)\n",
        "  x = Activation('elu')(x)\n",
        "\n",
        "  # 3\n",
        "  x = Conv2D(128, (3,3), padding='same', kernel_initializer='he_uniform', kernel_constraint=MaxNorm())(x)\n",
        "  x = BatchNormalization(momentum=0.95)(x)\n",
        "\n",
        "  # First skip connection\n",
        "  x = Add()([x, xskip])\n",
        "  x = Activation('elu')(x)\n",
        "\n",
        "  # First Maxpooling\n",
        "  xskip = MaxPooling2D(pool_size=(2,2), strides=2)(x)\n",
        "\n",
        "  # 4\n",
        "  x = Conv2D(128, (3,3), padding='same', kernel_initializer='he_uniform', kernel_constraint=MaxNorm())(xskip)\n",
        "  x = BatchNormalization(momentum=0.95)(x)\n",
        "  x = Activation('elu')(x)\n",
        "\n",
        "  # 5\n",
        "  x = Conv2D(128, (3,3), padding='same', kernel_initializer='he_uniform', kernel_constraint=MaxNorm())(x)\n",
        "  x = BatchNormalization(momentum=0.95)(x)\n",
        "\n",
        "  # Second skip connection\n",
        "  x = Add()([x, xskip])\n",
        "  x = Activation('elu')(x)\n",
        "\n",
        "  # Second Maxpooling\n",
        "  xskip = MaxPooling2D(pool_size=(2,2), strides=2)(x)\n",
        "\n",
        "  # 6\n",
        "  x = Conv2D(128, (3,3), padding='same', kernel_initializer='he_uniform', kernel_constraint=MaxNorm())(xskip)\n",
        "  x = BatchNormalization(momentum=0.95)(x)\n",
        "  x = Activation('elu')(x)\n",
        "\n",
        "  # 7\n",
        "  x = Conv2D(128, (3,3), padding='same', kernel_initializer='he_uniform', kernel_constraint=MaxNorm())(x)\n",
        "  x = BatchNormalization(momentum=0.95)(x)\n",
        "\n",
        "  # Third skip connection\n",
        "  x = Add()([x, xskip])\n",
        "  x = Activation('elu')(x)\n",
        "\n",
        "  # Third Maxpooling\n",
        "  x = MaxPooling2D(pool_size=(2,2), strides=2)(x)\n",
        "\n",
        "  x = Flatten()(x)\n",
        "  # Dropout\n",
        "  x = Dropout(0.25)(x)\n",
        "  x = Dense(512, activation='elu', kernel_initializer='he_uniform', kernel_constraint=MaxNorm(), kernel_regularizer=l2(l=0.001))(x)\n",
        "  x = Dense(256, activation='elu', kernel_initializer='he_uniform', kernel_constraint=MaxNorm(), kernel_regularizer=l2(l=0.001))(x)\n",
        "  x = Dense(num_classes)(x)\n",
        "  x = Activation('softmax')(x)\n",
        "\n",
        "  # Create model\n",
        "  model = Model(img_input, x)\n",
        "\n",
        "  opt = Adam(learning_rate=learning_rate)\n",
        "\n",
        "  model.compile(loss='categorical_crossentropy',\n",
        "                optimizer=opt,\n",
        "                metrics=['accuracy'])\n",
        "\n",
        "  return model"
      ],
      "execution_count": 0,
      "outputs": []
    },
    {
      "cell_type": "code",
      "metadata": {
        "id": "vhA1y-0_XIho",
        "colab_type": "code",
        "outputId": "d3036e1b-f4e3-4c71-ef9c-4f78acd1725e",
        "colab": {
          "base_uri": "https://localhost:8080/",
          "height": 1000
        }
      },
      "source": [
        "# retrain on all data\n",
        "model = residual_model(learning_rate=0.0005)\n",
        "model.summary()\n",
        "\n",
        "batch_size=256\n",
        "epochs=35\n",
        "\n",
        "# data augmentation\n",
        "datagen = ImageDataGenerator(\n",
        "        # rotation_range=22.5,\n",
        "        # width_shift_range=0.25,\n",
        "        # height_shift_range=0.25,\n",
        "        zoom_range=0.25,\n",
        "        horizontal_flip=True,\n",
        "        vertical_flip=False,\n",
        "        fill_mode='nearest')\n",
        "\n",
        "history = model.fit(datagen.flow(x_train_all, r_train_all, batch_size=batch_size),\n",
        "          epochs=epochs,\n",
        "          shuffle=True)"
      ],
      "execution_count": 8,
      "outputs": [
        {
          "output_type": "stream",
          "text": [
            "Model: \"model\"\n",
            "__________________________________________________________________________________________________\n",
            "Layer (type)                    Output Shape         Param #     Connected to                     \n",
            "==================================================================================================\n",
            "input_1 (InputLayer)            [(None, 32, 32, 3)]  0                                            \n",
            "__________________________________________________________________________________________________\n",
            "conv2d (Conv2D)                 (None, 32, 32, 128)  3584        input_1[0][0]                    \n",
            "__________________________________________________________________________________________________\n",
            "batch_normalization (BatchNorma (None, 32, 32, 128)  512         conv2d[0][0]                     \n",
            "__________________________________________________________________________________________________\n",
            "activation (Activation)         (None, 32, 32, 128)  0           batch_normalization[0][0]        \n",
            "__________________________________________________________________________________________________\n",
            "conv2d_1 (Conv2D)               (None, 32, 32, 128)  147584      activation[0][0]                 \n",
            "__________________________________________________________________________________________________\n",
            "batch_normalization_1 (BatchNor (None, 32, 32, 128)  512         conv2d_1[0][0]                   \n",
            "__________________________________________________________________________________________________\n",
            "activation_1 (Activation)       (None, 32, 32, 128)  0           batch_normalization_1[0][0]      \n",
            "__________________________________________________________________________________________________\n",
            "conv2d_2 (Conv2D)               (None, 32, 32, 128)  147584      activation_1[0][0]               \n",
            "__________________________________________________________________________________________________\n",
            "batch_normalization_2 (BatchNor (None, 32, 32, 128)  512         conv2d_2[0][0]                   \n",
            "__________________________________________________________________________________________________\n",
            "add (Add)                       (None, 32, 32, 128)  0           batch_normalization_2[0][0]      \n",
            "                                                                 activation[0][0]                 \n",
            "__________________________________________________________________________________________________\n",
            "activation_2 (Activation)       (None, 32, 32, 128)  0           add[0][0]                        \n",
            "__________________________________________________________________________________________________\n",
            "max_pooling2d (MaxPooling2D)    (None, 16, 16, 128)  0           activation_2[0][0]               \n",
            "__________________________________________________________________________________________________\n",
            "conv2d_3 (Conv2D)               (None, 16, 16, 128)  147584      max_pooling2d[0][0]              \n",
            "__________________________________________________________________________________________________\n",
            "batch_normalization_3 (BatchNor (None, 16, 16, 128)  512         conv2d_3[0][0]                   \n",
            "__________________________________________________________________________________________________\n",
            "activation_3 (Activation)       (None, 16, 16, 128)  0           batch_normalization_3[0][0]      \n",
            "__________________________________________________________________________________________________\n",
            "conv2d_4 (Conv2D)               (None, 16, 16, 128)  147584      activation_3[0][0]               \n",
            "__________________________________________________________________________________________________\n",
            "batch_normalization_4 (BatchNor (None, 16, 16, 128)  512         conv2d_4[0][0]                   \n",
            "__________________________________________________________________________________________________\n",
            "add_1 (Add)                     (None, 16, 16, 128)  0           batch_normalization_4[0][0]      \n",
            "                                                                 max_pooling2d[0][0]              \n",
            "__________________________________________________________________________________________________\n",
            "activation_4 (Activation)       (None, 16, 16, 128)  0           add_1[0][0]                      \n",
            "__________________________________________________________________________________________________\n",
            "max_pooling2d_1 (MaxPooling2D)  (None, 8, 8, 128)    0           activation_4[0][0]               \n",
            "__________________________________________________________________________________________________\n",
            "conv2d_5 (Conv2D)               (None, 8, 8, 128)    147584      max_pooling2d_1[0][0]            \n",
            "__________________________________________________________________________________________________\n",
            "batch_normalization_5 (BatchNor (None, 8, 8, 128)    512         conv2d_5[0][0]                   \n",
            "__________________________________________________________________________________________________\n",
            "activation_5 (Activation)       (None, 8, 8, 128)    0           batch_normalization_5[0][0]      \n",
            "__________________________________________________________________________________________________\n",
            "conv2d_6 (Conv2D)               (None, 8, 8, 128)    147584      activation_5[0][0]               \n",
            "__________________________________________________________________________________________________\n",
            "batch_normalization_6 (BatchNor (None, 8, 8, 128)    512         conv2d_6[0][0]                   \n",
            "__________________________________________________________________________________________________\n",
            "add_2 (Add)                     (None, 8, 8, 128)    0           batch_normalization_6[0][0]      \n",
            "                                                                 max_pooling2d_1[0][0]            \n",
            "__________________________________________________________________________________________________\n",
            "activation_6 (Activation)       (None, 8, 8, 128)    0           add_2[0][0]                      \n",
            "__________________________________________________________________________________________________\n",
            "max_pooling2d_2 (MaxPooling2D)  (None, 4, 4, 128)    0           activation_6[0][0]               \n",
            "__________________________________________________________________________________________________\n",
            "flatten (Flatten)               (None, 2048)         0           max_pooling2d_2[0][0]            \n",
            "__________________________________________________________________________________________________\n",
            "dropout (Dropout)               (None, 2048)         0           flatten[0][0]                    \n",
            "__________________________________________________________________________________________________\n",
            "dense (Dense)                   (None, 512)          1049088     dropout[0][0]                    \n",
            "__________________________________________________________________________________________________\n",
            "dense_1 (Dense)                 (None, 256)          131328      dense[0][0]                      \n",
            "__________________________________________________________________________________________________\n",
            "dense_2 (Dense)                 (None, 20)           5140        dense_1[0][0]                    \n",
            "__________________________________________________________________________________________________\n",
            "activation_7 (Activation)       (None, 20)           0           dense_2[0][0]                    \n",
            "==================================================================================================\n",
            "Total params: 2,078,228\n",
            "Trainable params: 2,076,436\n",
            "Non-trainable params: 1,792\n",
            "__________________________________________________________________________________________________\n",
            "WARNING:tensorflow:sample_weight modes were coerced from\n",
            "  ...\n",
            "    to  \n",
            "  ['...']\n",
            "Train for 196 steps\n",
            "Epoch 1/35\n",
            "196/196 [==============================] - 61s 309ms/step - loss: 4.4686 - accuracy: 0.2171\n",
            "Epoch 2/35\n",
            "196/196 [==============================] - 52s 265ms/step - loss: 3.5404 - accuracy: 0.3215\n",
            "Epoch 3/35\n",
            "196/196 [==============================] - 52s 265ms/step - loss: 3.2088 - accuracy: 0.3759\n",
            "Epoch 4/35\n",
            "196/196 [==============================] - 52s 265ms/step - loss: 2.9180 - accuracy: 0.4225\n",
            "Epoch 5/35\n",
            "196/196 [==============================] - 52s 265ms/step - loss: 2.6971 - accuracy: 0.4517\n",
            "Epoch 6/35\n",
            "196/196 [==============================] - 52s 265ms/step - loss: 2.4829 - accuracy: 0.4851\n",
            "Epoch 7/35\n",
            "196/196 [==============================] - 52s 265ms/step - loss: 2.2964 - accuracy: 0.5123\n",
            "Epoch 8/35\n",
            "196/196 [==============================] - 52s 265ms/step - loss: 2.1542 - accuracy: 0.5289\n",
            "Epoch 9/35\n",
            "196/196 [==============================] - 52s 265ms/step - loss: 2.0190 - accuracy: 0.5471\n",
            "Epoch 10/35\n",
            "196/196 [==============================] - 52s 265ms/step - loss: 1.8957 - accuracy: 0.5624\n",
            "Epoch 11/35\n",
            "196/196 [==============================] - 52s 264ms/step - loss: 1.7866 - accuracy: 0.5793\n",
            "Epoch 12/35\n",
            "196/196 [==============================] - 52s 264ms/step - loss: 1.6907 - accuracy: 0.5964\n",
            "Epoch 13/35\n",
            "196/196 [==============================] - 52s 264ms/step - loss: 1.6173 - accuracy: 0.6055\n",
            "Epoch 14/35\n",
            "196/196 [==============================] - 52s 264ms/step - loss: 1.5357 - accuracy: 0.6208\n",
            "Epoch 15/35\n",
            "196/196 [==============================] - 52s 264ms/step - loss: 1.4685 - accuracy: 0.6338\n",
            "Epoch 16/35\n",
            "196/196 [==============================] - 52s 265ms/step - loss: 1.4108 - accuracy: 0.6428\n",
            "Epoch 17/35\n",
            "196/196 [==============================] - 52s 265ms/step - loss: 1.3585 - accuracy: 0.6542\n",
            "Epoch 18/35\n",
            "196/196 [==============================] - 52s 265ms/step - loss: 1.3143 - accuracy: 0.6598\n",
            "Epoch 19/35\n",
            "196/196 [==============================] - 52s 264ms/step - loss: 1.2733 - accuracy: 0.6715\n",
            "Epoch 20/35\n",
            "196/196 [==============================] - 52s 264ms/step - loss: 1.2325 - accuracy: 0.6852\n",
            "Epoch 21/35\n",
            "196/196 [==============================] - 52s 264ms/step - loss: 1.1897 - accuracy: 0.6944\n",
            "Epoch 22/35\n",
            "196/196 [==============================] - 52s 264ms/step - loss: 1.1616 - accuracy: 0.6986\n",
            "Epoch 23/35\n",
            "196/196 [==============================] - 52s 264ms/step - loss: 1.1328 - accuracy: 0.7076\n",
            "Epoch 24/35\n",
            "196/196 [==============================] - 52s 264ms/step - loss: 1.1074 - accuracy: 0.7162\n",
            "Epoch 25/35\n",
            "196/196 [==============================] - 52s 264ms/step - loss: 1.0820 - accuracy: 0.7211\n",
            "Epoch 26/35\n",
            "196/196 [==============================] - 52s 264ms/step - loss: 1.0618 - accuracy: 0.7260\n",
            "Epoch 27/35\n",
            "196/196 [==============================] - 52s 264ms/step - loss: 1.0392 - accuracy: 0.7338\n",
            "Epoch 28/35\n",
            "196/196 [==============================] - 52s 264ms/step - loss: 1.0152 - accuracy: 0.7399\n",
            "Epoch 29/35\n",
            "196/196 [==============================] - 52s 264ms/step - loss: 0.9998 - accuracy: 0.7436\n",
            "Epoch 30/35\n",
            "196/196 [==============================] - 52s 263ms/step - loss: 0.9730 - accuracy: 0.7574\n",
            "Epoch 31/35\n",
            "196/196 [==============================] - 52s 263ms/step - loss: 0.9665 - accuracy: 0.7554\n",
            "Epoch 32/35\n",
            "196/196 [==============================] - 52s 264ms/step - loss: 0.9572 - accuracy: 0.7586\n",
            "Epoch 33/35\n",
            "196/196 [==============================] - 52s 264ms/step - loss: 0.9360 - accuracy: 0.7686\n",
            "Epoch 34/35\n",
            "196/196 [==============================] - 52s 265ms/step - loss: 0.9178 - accuracy: 0.7729\n",
            "Epoch 35/35\n",
            "196/196 [==============================] - 52s 265ms/step - loss: 0.9062 - accuracy: 0.7781\n"
          ],
          "name": "stdout"
        }
      ]
    },
    {
      "cell_type": "code",
      "metadata": {
        "id": "aelIvBIVnfmz",
        "colab_type": "code",
        "outputId": "ec5567ba-de92-46f4-b851-d51aa97b2592",
        "colab": {
          "base_uri": "https://localhost:8080/",
          "height": 298
        }
      },
      "source": [
        "plt.figure(figsize = (12,4))\n",
        "plt.subplot(1,2,1)\n",
        "\n",
        "plt.xlabel('Epoch')\n",
        "plt.ylabel('Accuracy')\n",
        "plt.plot(history.epoch, np.array(history.history['accuracy']),'g-',\n",
        "        label='Train accuracy')\n",
        "plt.legend()\n",
        "\n",
        "plt.subplot(1,2,2)\n",
        "plt.xlabel('Epoch')\n",
        "plt.ylabel('Loss minimised by model')\n",
        "plt.plot(history.epoch, np.array(history.history['loss']),'g-',\n",
        "        label='Train loss')\n",
        "plt.legend()"
      ],
      "execution_count": 9,
      "outputs": [
        {
          "output_type": "execute_result",
          "data": {
            "text/plain": [
              "<matplotlib.legend.Legend at 0x7fab7b2cff28>"
            ]
          },
          "metadata": {
            "tags": []
          },
          "execution_count": 9
        },
        {
          "output_type": "display_data",
          "data": {
            "image/png": "[encoded data removed]",
            "text/plain": [
              "<Figure size 864x288 with 2 Axes>"
            ]
          },
          "metadata": {
            "tags": []
          }
        }
      ]
    },
    {
      "cell_type": "code",
      "metadata": {
        "id": "Z-jGd1lhnmXB",
        "colab_type": "code",
        "outputId": "1522a410-3a36-4e1d-feec-ab5459559e98",
        "colab": {
          "base_uri": "https://localhost:8080/",
          "height": 34
        }
      },
      "source": [
        "# the file type for storing complete models is \".h5\"\n",
        "# feel free to change the path to whatever suits you best!\n",
        "checkpoint_dir = \"/content/gdrive/My Drive/Colab Notebooks/DL2020/GA2/\"\n",
        "modelpath = checkpoint_dir+\"resnet.h5\"\n",
        "print(\"Final model saved as \",modelpath)\n",
        "\n",
        "# Save entire model to a HDF5 file\n",
        "model.save(modelpath)"
      ],
      "execution_count": 10,
      "outputs": [
        {
          "output_type": "stream",
          "text": [
            "Final model saved as  /content/gdrive/My Drive/Colab Notebooks/DL2020/GA2/resnet.h5\n"
          ],
          "name": "stdout"
        }
      ]
    },
    {
      "cell_type": "code",
      "metadata": {
        "id": "T1Lw_O4Vn0sZ",
        "colab_type": "code",
        "outputId": "2369d2ae-c81b-475d-b66a-5da4f6ca5ccc",
        "colab": {
          "base_uri": "https://localhost:8080/",
          "height": 69
        }
      },
      "source": [
        "# The code below should give the same results as that for the original model\n",
        "[train_loss, train_accuracy] = model.evaluate(x_train_all, r_train_all, verbose=0)\n",
        "print(\"Training set Accuracy:{:7.2f}\".format(train_accuracy))\n",
        "print(\"Training set Loss:{:7.4f}\\n\".format(train_loss))"
      ],
      "execution_count": 11,
      "outputs": [
        {
          "output_type": "stream",
          "text": [
            "Training set Accuracy:   0.83\n",
            "Training set Loss: 0.7527\n",
            "\n"
          ],
          "name": "stdout"
        }
      ]
    }
  ]
}