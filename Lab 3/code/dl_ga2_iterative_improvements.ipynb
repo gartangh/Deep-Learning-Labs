{
  "nbformat": 4,
  "nbformat_minor": 0,
  "metadata": {
    "colab": {
      "name": "dl_ga2_iterative_improvements.ipynb",
      "provenance": [],
      "collapsed_sections": []
    },
    "kernelspec": {
      "name": "python3",
      "display_name": "Python 3"
    },
    "accelerator": "GPU"
  },
  "cells": [
    {
      "cell_type": "markdown",
      "metadata": {
        "id": "syicn1gTKa6C",
        "colab_type": "text"
      },
      "source": [
        "# Provided Code"
      ]
    },
    {
      "cell_type": "code",
      "metadata": {
        "id": "KAN7aedvjj4z",
        "colab_type": "code",
        "outputId": "ffa4cc35-af65-4b23-be69-ad735d9f7650",
        "colab": {
          "base_uri": "https://localhost:8080/",
          "height": 34
        }
      },
      "source": [
        "#imports and Drive mounting\n",
        "try:\n",
        "  # %tensorflow_version only exists in Colab.\n",
        "  %tensorflow_version 2.x\n",
        "except Exception:\n",
        "  pass\n",
        "\n",
        "# TensorFlow and tf.keras\n",
        "import tensorflow as tf\n",
        "from tensorflow import keras\n",
        "\n",
        "print(tf.__version__)\n",
        "\n",
        "# Helper libraries\n",
        "import numpy as np\n",
        "import matplotlib.pyplot as plt\n",
        "import sklearn as sk\n",
        "import pandas as pd\n",
        "import os\n",
        "\n",
        "# fix random seed for reproducibility\n",
        "seed = 2020\n",
        "np.random.seed(seed)  \n",
        "\n",
        "from sklearn.model_selection import train_test_split\n",
        "\n",
        "from tensorflow.keras.datasets import cifar100\n",
        "from tensorflow.keras.preprocessing.image import ImageDataGenerator\n",
        "from tensorflow.keras.models import Sequential\n",
        "from tensorflow.keras.layers import Dense, Dropout, Flatten, BatchNormalization, Activation\n",
        "from tensorflow.keras.layers import Conv2D, MaxPooling2D, GlobalMaxPooling2D\n",
        "from tensorflow.keras.optimizers import Adam\n",
        "from tensorflow.keras.callbacks import EarlyStopping, ModelCheckpoint\n",
        "from tensorflow.keras.models import load_model\n",
        "from tensorflow.keras.constraints import MaxNorm"
      ],
      "execution_count": 16,
      "outputs": [
        {
          "output_type": "stream",
          "text": [
            "2.1.0\n"
          ],
          "name": "stdout"
        }
      ]
    },
    {
      "cell_type": "code",
      "metadata": {
        "id": "tGIwUnVInurG",
        "colab_type": "code",
        "outputId": "1b0adf56-e68a-4f6d-9740-3707c756aed1",
        "colab": {
          "base_uri": "https://localhost:8080/",
          "height": 123
        }
      },
      "source": [
        "from google.colab import drive\n",
        "drive.mount('/content/gdrive')"
      ],
      "execution_count": 2,
      "outputs": [
        {
          "output_type": "stream",
          "text": [
            "Go to this URL in a browser: https://accounts.google.com/o/oauth2/auth?client_id=947318989803-6bn6qk8qdgf4n4g3pfee6491hc0brc4i.apps.googleusercontent.com&redirect_uri=urn%3aietf%3awg%3aoauth%3a2.0%3aoob&response_type=code&scope=email%20https%3a%2f%2fwww.googleapis.com%2fauth%2fdocs.test%20https%3a%2f%2fwww.googleapis.com%2fauth%2fdrive%20https%3a%2f%2fwww.googleapis.com%2fauth%2fdrive.photos.readonly%20https%3a%2f%2fwww.googleapis.com%2fauth%2fpeopleapi.readonly\n",
            "\n",
            "Enter your authorization code:\n",
            "··········\n",
            "Mounted at /content/gdrive\n"
          ],
          "name": "stdout"
        }
      ]
    },
    {
      "cell_type": "code",
      "metadata": {
        "id": "2bHIXiGlnuxC",
        "colab_type": "code",
        "colab": {}
      },
      "source": [
        "# helper functions for visualisation\n",
        "def plot_history(history):\n",
        "  plt.figure(figsize = (12,4))\n",
        "  plt.subplot(1,2,1)\n",
        "\n",
        "  plt.xlabel('Epoch')\n",
        "  plt.ylabel('Accuracy')\n",
        "  plt.plot(history.epoch, np.array(history.history['accuracy']),'g-',\n",
        "           label='Train accuracy')\n",
        "  plt.plot(history.epoch, np.array(history.history['val_accuracy']),'r-',\n",
        "           label = 'Validation accuracy')\n",
        "  plt.ylim([0.0,1.0])\n",
        "  plt.legend()\n",
        "\n",
        "  plt.subplot(1,2,2)\n",
        "  plt.xlabel('Epoch')\n",
        "  plt.ylabel('Loss minimised by model')\n",
        "  plt.plot(history.epoch, np.array(history.history['loss']),'g-',\n",
        "           label='Train loss')\n",
        "  plt.plot(history.epoch, np.array(history.history['val_loss']),'r-',\n",
        "           label = 'Validation loss')\n",
        "  plt.legend()"
      ],
      "execution_count": 0,
      "outputs": []
    },
    {
      "cell_type": "code",
      "metadata": {
        "id": "7P-2_C8xnu0D",
        "colab_type": "code",
        "outputId": "caf7e590-a2a8-415c-dac5-8c586dd0b3bb",
        "colab": {
          "base_uri": "https://localhost:8080/",
          "height": 103
        }
      },
      "source": [
        "# Load the data: CIFAR100 with 20 class labels\n",
        "(x_train_all, r_train_all_class), ( _ , _ ) = cifar100.load_data(label_mode='coarse')\n",
        "\n",
        "num_classes = 20\n",
        "\n",
        "val_size = 5000\n",
        "# make validation set\n",
        "x_train, x_val, r_train_class, r_val_class = train_test_split(x_train_all, r_train_all_class, test_size=val_size, random_state=0)\n",
        "\n",
        "# let's again take a subset of the training data first, for playing around\n",
        "# Note that such a subset is only useful if it can guide your tuning process,\n",
        "# i.e., if it leads you to similar decisions as you would make on the whole training set\n",
        "\n",
        "# In this case, 10000 samples is really too small: you can check this by comparing the validation curves \n",
        "# for 10000 training samples with those for all training samples. \n",
        "# The validation accuracy should not be very different!\n",
        "x_train_small = x_train[:16384]\n",
        "r_train_small_class = r_train_class[:16384]\n",
        "\n",
        "# And we do the same standardization as in the first assignment\n",
        "x_train_all = x_train_all.astype('float32')\n",
        "x_train = x_train.astype('float32')\n",
        "x_train_small = x_train_small.astype('float32')\n",
        "x_val = x_val.astype('float32')\n",
        "\n",
        "x_train_all /= 255.0\n",
        "x_train /= 255.0\n",
        "x_train_small /= 255.0\n",
        "x_val /= 255.0\n",
        "\n",
        "# the labels from the downloaded data are integer numbers\n",
        "# for a multi-class classification task, we again convert each integer\n",
        "# to a vector with 19 zeros and a single '1', corresponding to the right class\n",
        "r_train_all = tf.keras.utils.to_categorical(r_train_all_class, num_classes)\n",
        "r_train = tf.keras.utils.to_categorical(r_train_class, num_classes)\n",
        "r_train_small = tf.keras.utils.to_categorical(r_train_small_class, num_classes)\n",
        "r_val = tf.keras.utils.to_categorical(r_val_class, num_classes)\n",
        "\n",
        "\n",
        "# Labels\n",
        "labels = [\n",
        "'aquatic mammals',\n",
        "'fish',\n",
        "'flowers',\n",
        "'food containers',\n",
        "'fruit and vegetables',\n",
        "'household electrical devices',\n",
        "'household furniture',\n",
        "'insects',\n",
        "'large carnivores',\n",
        "'large man-made outdoor things',\n",
        "'large natural outdoor scenes',\n",
        "'large omnivores and herbivores',\n",
        "'medium-sized mammals',\n",
        "'non-insect invertebrates',\n",
        "'people',\n",
        "'reptiles',\n",
        "'small mammals',\n",
        "'trees',\n",
        "'vehicles 1',\n",
        "'vehicles 2'\n",
        "]\n",
        "\n",
        "print('x_train shape:', x_train.shape)\n",
        "print(x_train.shape[0], 'train samples')\n",
        "print(x_val.shape[0], 'validation samples')"
      ],
      "execution_count": 5,
      "outputs": [
        {
          "output_type": "stream",
          "text": [
            "Downloading data from https://www.cs.toronto.edu/~kriz/cifar-100-python.tar.gz\n",
            "169009152/169001437 [==============================] - 11s 0us/step\n",
            "x_train shape: (45000, 32, 32, 3)\n",
            "45000 train samples\n",
            "5000 validation samples\n"
          ],
          "name": "stdout"
        }
      ]
    },
    {
      "cell_type": "markdown",
      "metadata": {
        "id": "Hz9GQvyMK-sf",
        "colab_type": "text"
      },
      "source": [
        "# First Complex Model\n"
      ]
    },
    {
      "cell_type": "code",
      "metadata": {
        "id": "MuP2_izonu6l",
        "colab_type": "code",
        "colab": {}
      },
      "source": [
        "# First, make the model more complex to lower bias\n",
        "def complex_model(learning_rate=0.001):\n",
        "  model = Sequential([\n",
        "    # 1\n",
        "    Conv2D(64, (3,3), padding='same', kernel_initializer='he_uniform', input_shape=x_train.shape[1:]),\n",
        "    BatchNormalization(momentum=0.95),\n",
        "    Activation('relu'),\n",
        "    \n",
        "    # 2\n",
        "    Conv2D(64, (3,3), padding='same', kernel_initializer='he_uniform'),\n",
        "    BatchNormalization(momentum=0.95),\n",
        "    Activation('relu'),\n",
        "\n",
        "    # First Maxpooling\n",
        "    MaxPooling2D(pool_size=(2,2), strides=2),\n",
        "\n",
        "    # 3\n",
        "    Conv2D(128, (3,3), padding='same', kernel_initializer='he_uniform'),\n",
        "    BatchNormalization(momentum=0.95),\n",
        "    Activation('relu'),\n",
        "\n",
        "    # 4\n",
        "    Conv2D(128, (3,3), padding='same', kernel_initializer='he_uniform'),\n",
        "    BatchNormalization(momentum=0.95),\n",
        "    Activation('relu'),\n",
        "\n",
        "    # Second Maxpooling\n",
        "    MaxPooling2D(pool_size=(2,2), strides=2),\n",
        "\n",
        "    # 5\n",
        "    Conv2D(256, (3,3), padding='same', kernel_initializer='he_uniform'),\n",
        "    BatchNormalization(momentum=0.95),\n",
        "    Activation('relu'),\n",
        "\n",
        "    # 6\n",
        "    Conv2D(256, (3,3), padding='same', kernel_initializer='he_uniform'),\n",
        "    BatchNormalization(momentum=0.95),\n",
        "    Activation('relu'),\n",
        "\n",
        "    # Third Maxpooling\n",
        "    MaxPooling2D(pool_size=(2,2), strides=2),\n",
        "\n",
        "    Flatten(),\n",
        "    Dense(num_classes),\n",
        "    Activation('softmax')\n",
        "  ])\n",
        "\n",
        "  opt = Adam(learning_rate=learning_rate)\n",
        "\n",
        "  model.compile(loss='categorical_crossentropy',\n",
        "                optimizer=opt,\n",
        "                metrics=['accuracy'])\n",
        "\n",
        "  return model"
      ],
      "execution_count": 0,
      "outputs": []
    },
    {
      "cell_type": "code",
      "metadata": {
        "id": "9ojCu-T_nvAQ",
        "colab_type": "code",
        "outputId": "756f29c2-4b57-4632-c8d8-cb7b6a98ad9b",
        "colab": {
          "base_uri": "https://localhost:8080/",
          "height": 1000
        }
      },
      "source": [
        "model = complex_model(learning_rate=0.001)\n",
        "model.summary()\n",
        "\n",
        "batch_size = 256\n",
        "epochs = 25\n",
        "\n",
        "checkpoint_dir = \"/content/gdrive/My Drive/Colab Notebooks/DL2020/GA2/\"\n",
        "print(\"Models will be saved in \",checkpoint_dir)\n",
        "model_savename = checkpoint_dir+\"initialmodel_model_version_0.1.h5\"\n",
        "checkpoint_path = checkpoint_dir+\"cp-{epoch:04d}.ckpt\"\n",
        "\n",
        "mc_callback = ModelCheckpoint(checkpoint_path,\n",
        "                              monitor='val_accuracy',\n",
        "                              save_weights_only=True,\n",
        "                              save_best_only=True,\n",
        "                              verbose=1)\n",
        "\n",
        "history = model.fit(x_train_small, r_train_small,\n",
        "          batch_size=batch_size,\n",
        "          epochs=epochs,\n",
        "          callbacks = [mc_callback],\n",
        "          validation_data=(x_val, r_val),\n",
        "          shuffle=True)"
      ],
      "execution_count": 10,
      "outputs": [
        {
          "output_type": "stream",
          "text": [
            "Model: \"sequential_2\"\n",
            "_________________________________________________________________\n",
            "Layer (type)                 Output Shape              Param #   \n",
            "=================================================================\n",
            "conv2d_16 (Conv2D)           (None, 32, 32, 64)        1792      \n",
            "_________________________________________________________________\n",
            "batch_normalization_16 (Batc (None, 32, 32, 64)        256       \n",
            "_________________________________________________________________\n",
            "activation_18 (Activation)   (None, 32, 32, 64)        0         \n",
            "_________________________________________________________________\n",
            "conv2d_17 (Conv2D)           (None, 32, 32, 64)        36928     \n",
            "_________________________________________________________________\n",
            "batch_normalization_17 (Batc (None, 32, 32, 64)        256       \n",
            "_________________________________________________________________\n",
            "activation_19 (Activation)   (None, 32, 32, 64)        0         \n",
            "_________________________________________________________________\n",
            "max_pooling2d_8 (MaxPooling2 (None, 16, 16, 64)        0         \n",
            "_________________________________________________________________\n",
            "conv2d_18 (Conv2D)           (None, 16, 16, 128)       73856     \n",
            "_________________________________________________________________\n",
            "batch_normalization_18 (Batc (None, 16, 16, 128)       512       \n",
            "_________________________________________________________________\n",
            "activation_20 (Activation)   (None, 16, 16, 128)       0         \n",
            "_________________________________________________________________\n",
            "conv2d_19 (Conv2D)           (None, 16, 16, 128)       147584    \n",
            "_________________________________________________________________\n",
            "batch_normalization_19 (Batc (None, 16, 16, 128)       512       \n",
            "_________________________________________________________________\n",
            "activation_21 (Activation)   (None, 16, 16, 128)       0         \n",
            "_________________________________________________________________\n",
            "max_pooling2d_9 (MaxPooling2 (None, 8, 8, 128)         0         \n",
            "_________________________________________________________________\n",
            "conv2d_20 (Conv2D)           (None, 8, 8, 256)         295168    \n",
            "_________________________________________________________________\n",
            "batch_normalization_20 (Batc (None, 8, 8, 256)         1024      \n",
            "_________________________________________________________________\n",
            "activation_22 (Activation)   (None, 8, 8, 256)         0         \n",
            "_________________________________________________________________\n",
            "conv2d_21 (Conv2D)           (None, 8, 8, 256)         590080    \n",
            "_________________________________________________________________\n",
            "batch_normalization_21 (Batc (None, 8, 8, 256)         1024      \n",
            "_________________________________________________________________\n",
            "activation_23 (Activation)   (None, 8, 8, 256)         0         \n",
            "_________________________________________________________________\n",
            "max_pooling2d_10 (MaxPooling (None, 4, 4, 256)         0         \n",
            "_________________________________________________________________\n",
            "flatten_2 (Flatten)          (None, 4096)              0         \n",
            "_________________________________________________________________\n",
            "dense_2 (Dense)              (None, 20)                81940     \n",
            "_________________________________________________________________\n",
            "activation_24 (Activation)   (None, 20)                0         \n",
            "=================================================================\n",
            "Total params: 1,230,932\n",
            "Trainable params: 1,229,140\n",
            "Non-trainable params: 1,792\n",
            "_________________________________________________________________\n",
            "Models will be saved in  /content/gdrive/My Drive/Colab Notebooks/DL2020/GA1/\n",
            "Train on 16384 samples, validate on 5000 samples\n",
            "Epoch 1/25\n",
            "16128/16384 [============================>.] - ETA: 0s - loss: 2.8180 - accuracy: 0.2255\n",
            "Epoch 00001: val_accuracy improved from -inf to 0.09040, saving model to /content/gdrive/My Drive/Colab Notebooks/DL2020/GA1/cp-0001.ckpt\n",
            "16384/16384 [==============================] - 9s 565us/sample - loss: 2.8059 - accuracy: 0.2281 - val_loss: 3.4097 - val_accuracy: 0.0904\n",
            "Epoch 2/25\n",
            "16128/16384 [============================>.] - ETA: 0s - loss: 2.0986 - accuracy: 0.3547\n",
            "Epoch 00002: val_accuracy improved from 0.09040 to 0.12720, saving model to /content/gdrive/My Drive/Colab Notebooks/DL2020/GA1/cp-0002.ckpt\n",
            "16384/16384 [==============================] - 9s 524us/sample - loss: 2.0991 - accuracy: 0.3548 - val_loss: 3.4073 - val_accuracy: 0.1272\n",
            "Epoch 3/25\n",
            "16128/16384 [============================>.] - ETA: 0s - loss: 1.8032 - accuracy: 0.4435\n",
            "Epoch 00003: val_accuracy improved from 0.12720 to 0.22620, saving model to /content/gdrive/My Drive/Colab Notebooks/DL2020/GA1/cp-0003.ckpt\n",
            "16384/16384 [==============================] - 9s 540us/sample - loss: 1.8028 - accuracy: 0.4437 - val_loss: 2.9417 - val_accuracy: 0.2262\n",
            "Epoch 4/25\n",
            "16128/16384 [============================>.] - ETA: 0s - loss: 1.5190 - accuracy: 0.5219\n",
            "Epoch 00004: val_accuracy improved from 0.22620 to 0.35800, saving model to /content/gdrive/My Drive/Colab Notebooks/DL2020/GA1/cp-0004.ckpt\n",
            "16384/16384 [==============================] - 9s 537us/sample - loss: 1.5175 - accuracy: 0.5228 - val_loss: 2.1284 - val_accuracy: 0.3580\n",
            "Epoch 5/25\n",
            "16128/16384 [============================>.] - ETA: 0s - loss: 1.2241 - accuracy: 0.6172\n",
            "Epoch 00005: val_accuracy improved from 0.35800 to 0.42440, saving model to /content/gdrive/My Drive/Colab Notebooks/DL2020/GA1/cp-0005.ckpt\n",
            "16384/16384 [==============================] - 10s 603us/sample - loss: 1.2274 - accuracy: 0.6158 - val_loss: 1.8885 - val_accuracy: 0.4244\n",
            "Epoch 6/25\n",
            "16128/16384 [============================>.] - ETA: 0s - loss: 0.9543 - accuracy: 0.7000\n",
            "Epoch 00006: val_accuracy improved from 0.42440 to 0.46120, saving model to /content/gdrive/My Drive/Colab Notebooks/DL2020/GA1/cp-0006.ckpt\n",
            "16384/16384 [==============================] - 9s 551us/sample - loss: 0.9565 - accuracy: 0.6993 - val_loss: 1.8323 - val_accuracy: 0.4612\n",
            "Epoch 7/25\n",
            "16128/16384 [============================>.] - ETA: 0s - loss: 0.6617 - accuracy: 0.7997\n",
            "Epoch 00007: val_accuracy improved from 0.46120 to 0.47140, saving model to /content/gdrive/My Drive/Colab Notebooks/DL2020/GA1/cp-0007.ckpt\n",
            "16384/16384 [==============================] - 9s 546us/sample - loss: 0.6643 - accuracy: 0.7984 - val_loss: 1.8013 - val_accuracy: 0.4714\n",
            "Epoch 8/25\n",
            "16128/16384 [============================>.] - ETA: 0s - loss: 0.4105 - accuracy: 0.8938\n",
            "Epoch 00008: val_accuracy improved from 0.47140 to 0.47900, saving model to /content/gdrive/My Drive/Colab Notebooks/DL2020/GA1/cp-0008.ckpt\n",
            "16384/16384 [==============================] - 9s 574us/sample - loss: 0.4112 - accuracy: 0.8936 - val_loss: 1.8649 - val_accuracy: 0.4790\n",
            "Epoch 9/25\n",
            "16128/16384 [============================>.] - ETA: 0s - loss: 0.2098 - accuracy: 0.9590\n",
            "Epoch 00009: val_accuracy improved from 0.47900 to 0.50640, saving model to /content/gdrive/My Drive/Colab Notebooks/DL2020/GA1/cp-0009.ckpt\n",
            "16384/16384 [==============================] - 9s 535us/sample - loss: 0.2100 - accuracy: 0.9588 - val_loss: 1.8233 - val_accuracy: 0.5064\n",
            "Epoch 10/25\n",
            "16128/16384 [============================>.] - ETA: 0s - loss: 0.0934 - accuracy: 0.9905\n",
            "Epoch 00010: val_accuracy did not improve from 0.50640\n",
            "16384/16384 [==============================] - 8s 493us/sample - loss: 0.0936 - accuracy: 0.9903 - val_loss: 1.9130 - val_accuracy: 0.4918\n",
            "Epoch 11/25\n",
            "16128/16384 [============================>.] - ETA: 0s - loss: 0.0379 - accuracy: 0.9988\n",
            "Epoch 00011: val_accuracy improved from 0.50640 to 0.53040, saving model to /content/gdrive/My Drive/Colab Notebooks/DL2020/GA1/cp-0011.ckpt\n",
            "16384/16384 [==============================] - 9s 541us/sample - loss: 0.0379 - accuracy: 0.9987 - val_loss: 1.7691 - val_accuracy: 0.5304\n",
            "Epoch 12/25\n",
            "16128/16384 [============================>.] - ETA: 0s - loss: 0.0181 - accuracy: 0.9998\n",
            "Epoch 00012: val_accuracy improved from 0.53040 to 0.53920, saving model to /content/gdrive/My Drive/Colab Notebooks/DL2020/GA1/cp-0012.ckpt\n",
            "16384/16384 [==============================] - 9s 543us/sample - loss: 0.0180 - accuracy: 0.9998 - val_loss: 1.7286 - val_accuracy: 0.5392\n",
            "Epoch 13/25\n",
            "16128/16384 [============================>.] - ETA: 0s - loss: 0.0125 - accuracy: 0.9998\n",
            "Epoch 00013: val_accuracy improved from 0.53920 to 0.54200, saving model to /content/gdrive/My Drive/Colab Notebooks/DL2020/GA1/cp-0013.ckpt\n",
            "16384/16384 [==============================] - 9s 545us/sample - loss: 0.0125 - accuracy: 0.9998 - val_loss: 1.7703 - val_accuracy: 0.5420\n",
            "Epoch 14/25\n",
            "16128/16384 [============================>.] - ETA: 0s - loss: 0.0122 - accuracy: 0.9996\n",
            "Epoch 00014: val_accuracy did not improve from 0.54200\n",
            "16384/16384 [==============================] - 8s 494us/sample - loss: 0.0121 - accuracy: 0.9996 - val_loss: 1.8012 - val_accuracy: 0.5406\n",
            "Epoch 15/25\n",
            "16128/16384 [============================>.] - ETA: 0s - loss: 0.0087 - accuracy: 0.9998\n",
            "Epoch 00015: val_accuracy did not improve from 0.54200\n",
            "16384/16384 [==============================] - 8s 493us/sample - loss: 0.0087 - accuracy: 0.9998 - val_loss: 1.8171 - val_accuracy: 0.5412\n",
            "Epoch 16/25\n",
            "16128/16384 [============================>.] - ETA: 0s - loss: 0.0089 - accuracy: 0.9998\n",
            "Epoch 00016: val_accuracy improved from 0.54200 to 0.54520, saving model to /content/gdrive/My Drive/Colab Notebooks/DL2020/GA1/cp-0016.ckpt\n",
            "16384/16384 [==============================] - 10s 637us/sample - loss: 0.0088 - accuracy: 0.9998 - val_loss: 1.8204 - val_accuracy: 0.5452\n",
            "Epoch 17/25\n",
            "16128/16384 [============================>.] - ETA: 0s - loss: 0.0064 - accuracy: 0.9998\n",
            "Epoch 00017: val_accuracy did not improve from 0.54520\n",
            "16384/16384 [==============================] - 8s 494us/sample - loss: 0.0064 - accuracy: 0.9998 - val_loss: 1.8341 - val_accuracy: 0.5412\n",
            "Epoch 18/25\n",
            "16128/16384 [============================>.] - ETA: 0s - loss: 0.0085 - accuracy: 0.9997\n",
            "Epoch 00018: val_accuracy did not improve from 0.54520\n",
            "16384/16384 [==============================] - 8s 493us/sample - loss: 0.0084 - accuracy: 0.9997 - val_loss: 1.8484 - val_accuracy: 0.5442\n",
            "Epoch 19/25\n",
            "16128/16384 [============================>.] - ETA: 0s - loss: 0.0074 - accuracy: 0.9997\n",
            "Epoch 00019: val_accuracy did not improve from 0.54520\n",
            "16384/16384 [==============================] - 8s 491us/sample - loss: 0.0074 - accuracy: 0.9997 - val_loss: 1.8537 - val_accuracy: 0.5440\n",
            "Epoch 20/25\n",
            "16128/16384 [============================>.] - ETA: 0s - loss: 0.0061 - accuracy: 0.9997\n",
            "Epoch 00020: val_accuracy improved from 0.54520 to 0.54640, saving model to /content/gdrive/My Drive/Colab Notebooks/DL2020/GA1/cp-0020.ckpt\n",
            "16384/16384 [==============================] - 9s 541us/sample - loss: 0.0061 - accuracy: 0.9997 - val_loss: 1.8384 - val_accuracy: 0.5464\n",
            "Epoch 21/25\n",
            "16128/16384 [============================>.] - ETA: 0s - loss: 0.0043 - accuracy: 0.9999\n",
            "Epoch 00021: val_accuracy did not improve from 0.54640\n",
            "16384/16384 [==============================] - 8s 493us/sample - loss: 0.0042 - accuracy: 0.9999 - val_loss: 1.8426 - val_accuracy: 0.5452\n",
            "Epoch 22/25\n",
            "16128/16384 [============================>.] - ETA: 0s - loss: 0.0061 - accuracy: 0.9998\n",
            "Epoch 00022: val_accuracy did not improve from 0.54640\n",
            "16384/16384 [==============================] - 8s 495us/sample - loss: 0.0060 - accuracy: 0.9998 - val_loss: 1.8747 - val_accuracy: 0.5446\n",
            "Epoch 23/25\n",
            "16128/16384 [============================>.] - ETA: 0s - loss: 0.0061 - accuracy: 0.9998\n",
            "Epoch 00023: val_accuracy did not improve from 0.54640\n",
            "16384/16384 [==============================] - 8s 493us/sample - loss: 0.0060 - accuracy: 0.9998 - val_loss: 1.8631 - val_accuracy: 0.5460\n",
            "Epoch 24/25\n",
            "16128/16384 [============================>.] - ETA: 0s - loss: 0.0044 - accuracy: 0.9999\n",
            "Epoch 00024: val_accuracy did not improve from 0.54640\n",
            "16384/16384 [==============================] - 8s 492us/sample - loss: 0.0044 - accuracy: 0.9999 - val_loss: 1.8842 - val_accuracy: 0.5432\n",
            "Epoch 25/25\n",
            "16128/16384 [============================>.] - ETA: 0s - loss: 0.0038 - accuracy: 0.9998\n",
            "Epoch 00025: val_accuracy did not improve from 0.54640\n",
            "16384/16384 [==============================] - 8s 493us/sample - loss: 0.0038 - accuracy: 0.9998 - val_loss: 1.8873 - val_accuracy: 0.5436\n"
          ],
          "name": "stdout"
        }
      ]
    },
    {
      "cell_type": "code",
      "metadata": {
        "id": "Qh-8aDjPxn0v",
        "colab_type": "code",
        "colab": {
          "base_uri": "https://localhost:8080/",
          "height": 386
        },
        "outputId": "c6d44c8f-6763-4d9a-c8fc-018a7efb3187"
      },
      "source": [
        "# We analyse the result:\n",
        "[train_loss, train_accuracy] = model.evaluate(x_train_small, r_train_small, verbose=0)\n",
        "print(\"Training set Accuracy:{:7.2f}\".format(train_accuracy))\n",
        "print(\"Training set Loss:{:7.4f}\\n\".format(train_loss))\n",
        "\n",
        "[val_loss, val_accuracy] = model.evaluate(x_val, r_val, verbose=0)\n",
        "print(\"Validation set Accuracy:{:7.2f}\".format(val_accuracy))\n",
        "print(\"Validation set Loss:{:7.4f}\\n\".format(val_loss))\n",
        "\n",
        "# Now we visualise what happened during training\n",
        "plot_history(history)"
      ],
      "execution_count": 11,
      "outputs": [
        {
          "output_type": "stream",
          "text": [
            "Training set Accuracy:   1.00\n",
            "Training set Loss: 0.0031\n",
            "\n",
            "Validation set Accuracy:   0.54\n",
            "Validation set Loss: 1.8873\n",
            "\n"
          ],
          "name": "stdout"
        },
        {
          "output_type": "display_data",
          "data": {
            "image/png": "[encoded data removed]",
            "text/plain": [
              "<Figure size 864x288 with 2 Axes>"
            ]
          },
          "metadata": {
            "tags": []
          }
        }
      ]
    },
    {
      "cell_type": "markdown",
      "metadata": {
        "id": "DDsT0tIXgfcj",
        "colab_type": "text"
      },
      "source": [
        "# Regularizing"
      ]
    },
    {
      "cell_type": "code",
      "metadata": {
        "id": "nq6oGltbnZ3L",
        "colab_type": "code",
        "colab": {}
      },
      "source": [
        "# Then, add regularization\n",
        "def regularized_model(learning_rate=0.001):\n",
        "  model = Sequential([\n",
        "    # 1\n",
        "    Conv2D(64, (3,3), padding='same', kernel_initializer='he_uniform', kernel_constraint=MaxNorm(), input_shape=x_train.shape[1:]),\n",
        "    BatchNormalization(momentum=0.95),\n",
        "    Activation('relu'),\n",
        "    \n",
        "    # 2\n",
        "    Conv2D(64, (3,3), padding='same', kernel_initializer='he_uniform', kernel_constraint=MaxNorm()),\n",
        "    BatchNormalization(momentum=0.95),\n",
        "    Activation('relu'),\n",
        "\n",
        "    # First Maxpooling\n",
        "    MaxPooling2D(pool_size=(2,2), strides=2),\n",
        "\n",
        "    # 3\n",
        "    Conv2D(128, (3,3), padding='same', kernel_initializer='he_uniform', kernel_constraint=MaxNorm()),\n",
        "    BatchNormalization(momentum=0.95),\n",
        "    Activation('relu'),\n",
        "\n",
        "    # 4\n",
        "    Conv2D(128, (3,3), padding='same', kernel_initializer='he_uniform', kernel_constraint=MaxNorm()),\n",
        "    BatchNormalization(momentum=0.95),\n",
        "    Activation('relu'),\n",
        "\n",
        "    # Second Maxpooling\n",
        "    MaxPooling2D(pool_size=(2,2), strides=2),\n",
        "\n",
        "    # 5\n",
        "    Conv2D(256, (3,3), padding='same', kernel_initializer='he_uniform', kernel_constraint=MaxNorm()),\n",
        "    BatchNormalization(momentum=0.95),\n",
        "    Activation('relu'),\n",
        "\n",
        "    # 6\n",
        "    Conv2D(256, (3,3), padding='same', kernel_initializer='he_uniform', kernel_constraint=MaxNorm()),\n",
        "    BatchNormalization(momentum=0.95),\n",
        "    Activation('relu'),\n",
        "\n",
        "    # Third Maxpooling\n",
        "    MaxPooling2D(pool_size=(2,2), strides=2),\n",
        "\n",
        "    Flatten(),\n",
        "    # Dropout\n",
        "    Dropout(0.25),\n",
        "    Dense(num_classes),\n",
        "    Activation('softmax')\n",
        "  ])\n",
        "\n",
        "  opt = Adam(learning_rate=learning_rate)\n",
        "\n",
        "  model.compile(loss='categorical_crossentropy',\n",
        "                optimizer=opt,\n",
        "                metrics=['accuracy'])\n",
        "\n",
        "  return model"
      ],
      "execution_count": 0,
      "outputs": []
    },
    {
      "cell_type": "code",
      "metadata": {
        "id": "-mRbMbS7p5Zr",
        "colab_type": "code",
        "outputId": "53bf4c69-c693-419e-cbf6-de3daa89f1b2",
        "colab": {
          "base_uri": "https://localhost:8080/",
          "height": 1000
        }
      },
      "source": [
        "model = regularized_model(learning_rate=0.0005)\n",
        "model.summary()\n",
        "\n",
        "batch_size = 256\n",
        "epochs=100\n",
        "\n",
        "checkpoint_dir = \"/content/gdrive/My Drive/Colab Notebooks/DL2020/GA2/\"\n",
        "print(\"Models will be saved in \",checkpoint_dir)\n",
        "model_savename = checkpoint_dir+\"initialmodel_model_version_0.1.h5\"\n",
        "checkpoint_path = checkpoint_dir+\"cp-{epoch:04d}.ckpt\"\n",
        "\n",
        "mc_callback = ModelCheckpoint(checkpoint_path,\n",
        "                              monitor='val_accuracy',\n",
        "                              save_weights_only=True,\n",
        "                              save_best_only=True,\n",
        "                              verbose=1)\n",
        "# early stopping\n",
        "es_callback = EarlyStopping(monitor='val_accuracy', patience=5, min_delta=0.0001)\n",
        "\n",
        "# data augmentation\n",
        "datagen = ImageDataGenerator(\n",
        "        # rotation_range=22.5,\n",
        "        # width_shift_range=0.25,\n",
        "        # height_shift_range=0.25,\n",
        "        zoom_range=0.25,\n",
        "        horizontal_flip=True,\n",
        "        vertical_flip=False,\n",
        "        fill_mode='nearest')\n",
        "\n",
        "history = model.fit(datagen.flow(x_train, r_train, batch_size=batch_size),\n",
        "          epochs=epochs,\n",
        "          callbacks = [mc_callback, es_callback],\n",
        "          validation_data=(x_val, r_val),\n",
        "          shuffle=True)"
      ],
      "execution_count": 26,
      "outputs": [
        {
          "output_type": "stream",
          "text": [
            "Model: \"sequential_10\"\n",
            "_________________________________________________________________\n",
            "Layer (type)                 Output Shape              Param #   \n",
            "=================================================================\n",
            "conv2d_64 (Conv2D)           (None, 32, 32, 64)        1792      \n",
            "_________________________________________________________________\n",
            "batch_normalization_64 (Batc (None, 32, 32, 64)        256       \n",
            "_________________________________________________________________\n",
            "activation_74 (Activation)   (None, 32, 32, 64)        0         \n",
            "_________________________________________________________________\n",
            "conv2d_65 (Conv2D)           (None, 32, 32, 64)        36928     \n",
            "_________________________________________________________________\n",
            "batch_normalization_65 (Batc (None, 32, 32, 64)        256       \n",
            "_________________________________________________________________\n",
            "activation_75 (Activation)   (None, 32, 32, 64)        0         \n",
            "_________________________________________________________________\n",
            "max_pooling2d_32 (MaxPooling (None, 16, 16, 64)        0         \n",
            "_________________________________________________________________\n",
            "conv2d_66 (Conv2D)           (None, 16, 16, 128)       73856     \n",
            "_________________________________________________________________\n",
            "batch_normalization_66 (Batc (None, 16, 16, 128)       512       \n",
            "_________________________________________________________________\n",
            "activation_76 (Activation)   (None, 16, 16, 128)       0         \n",
            "_________________________________________________________________\n",
            "conv2d_67 (Conv2D)           (None, 16, 16, 128)       147584    \n",
            "_________________________________________________________________\n",
            "batch_normalization_67 (Batc (None, 16, 16, 128)       512       \n",
            "_________________________________________________________________\n",
            "activation_77 (Activation)   (None, 16, 16, 128)       0         \n",
            "_________________________________________________________________\n",
            "max_pooling2d_33 (MaxPooling (None, 8, 8, 128)         0         \n",
            "_________________________________________________________________\n",
            "conv2d_68 (Conv2D)           (None, 8, 8, 256)         295168    \n",
            "_________________________________________________________________\n",
            "batch_normalization_68 (Batc (None, 8, 8, 256)         1024      \n",
            "_________________________________________________________________\n",
            "activation_78 (Activation)   (None, 8, 8, 256)         0         \n",
            "_________________________________________________________________\n",
            "conv2d_69 (Conv2D)           (None, 8, 8, 256)         590080    \n",
            "_________________________________________________________________\n",
            "batch_normalization_69 (Batc (None, 8, 8, 256)         1024      \n",
            "_________________________________________________________________\n",
            "activation_79 (Activation)   (None, 8, 8, 256)         0         \n",
            "_________________________________________________________________\n",
            "max_pooling2d_34 (MaxPooling (None, 4, 4, 256)         0         \n",
            "_________________________________________________________________\n",
            "flatten_10 (Flatten)         (None, 4096)              0         \n",
            "_________________________________________________________________\n",
            "dropout_7 (Dropout)          (None, 4096)              0         \n",
            "_________________________________________________________________\n",
            "dense_10 (Dense)             (None, 20)                81940     \n",
            "_________________________________________________________________\n",
            "activation_80 (Activation)   (None, 20)                0         \n",
            "=================================================================\n",
            "Total params: 1,230,932\n",
            "Trainable params: 1,229,140\n",
            "Non-trainable params: 1,792\n",
            "_________________________________________________________________\n",
            "Models will be saved in  /content/gdrive/My Drive/Colab Notebooks/DL2020/GA2/\n",
            "WARNING:tensorflow:sample_weight modes were coerced from\n",
            "  ...\n",
            "    to  \n",
            "  ['...']\n",
            "Train for 176 steps, validate on 5000 samples\n",
            "Epoch 1/100\n",
            " 54/176 [========>.....................] - ETA: 22s - loss: 2.8521 - accuracy: 0.2021WARNING:tensorflow:Can save best model only with val_accuracy available, skipping.\n",
            "WARNING:tensorflow:Early stopping conditioned on metric `val_accuracy` which is not available. Available metrics are: loss,accuracy\n"
          ],
          "name": "stdout"
        },
        {
          "output_type": "error",
          "ename": "KeyboardInterrupt",
          "evalue": "ignored",
          "traceback": [
            "\u001b[0;31m---------------------------------------------------------------------------\u001b[0m",
            "\u001b[0;31mKeyboardInterrupt\u001b[0m                         Traceback (most recent call last)",
            "\u001b[0;32m<ipython-input-26-819a4ddb6e3a>\u001b[0m in \u001b[0;36m<module>\u001b[0;34m()\u001b[0m\n\u001b[1;32m     32\u001b[0m           \u001b[0mcallbacks\u001b[0m \u001b[0;34m=\u001b[0m \u001b[0;34m[\u001b[0m\u001b[0mmc_callback\u001b[0m\u001b[0;34m,\u001b[0m \u001b[0mes_callback\u001b[0m\u001b[0;34m]\u001b[0m\u001b[0;34m,\u001b[0m\u001b[0;34m\u001b[0m\u001b[0;34m\u001b[0m\u001b[0m\n\u001b[1;32m     33\u001b[0m           \u001b[0mvalidation_data\u001b[0m\u001b[0;34m=\u001b[0m\u001b[0;34m(\u001b[0m\u001b[0mx_val\u001b[0m\u001b[0;34m,\u001b[0m \u001b[0mr_val\u001b[0m\u001b[0;34m)\u001b[0m\u001b[0;34m,\u001b[0m\u001b[0;34m\u001b[0m\u001b[0;34m\u001b[0m\u001b[0m\n\u001b[0;32m---> 34\u001b[0;31m           shuffle=True)\n\u001b[0m",
            "\u001b[0;32m/tensorflow-2.1.0/python3.6/tensorflow_core/python/keras/engine/training.py\u001b[0m in \u001b[0;36mfit\u001b[0;34m(self, x, y, batch_size, epochs, verbose, callbacks, validation_split, validation_data, shuffle, class_weight, sample_weight, initial_epoch, steps_per_epoch, validation_steps, validation_freq, max_queue_size, workers, use_multiprocessing, **kwargs)\u001b[0m\n\u001b[1;32m    817\u001b[0m         \u001b[0mmax_queue_size\u001b[0m\u001b[0;34m=\u001b[0m\u001b[0mmax_queue_size\u001b[0m\u001b[0;34m,\u001b[0m\u001b[0;34m\u001b[0m\u001b[0;34m\u001b[0m\u001b[0m\n\u001b[1;32m    818\u001b[0m         \u001b[0mworkers\u001b[0m\u001b[0;34m=\u001b[0m\u001b[0mworkers\u001b[0m\u001b[0;34m,\u001b[0m\u001b[0;34m\u001b[0m\u001b[0;34m\u001b[0m\u001b[0m\n\u001b[0;32m--> 819\u001b[0;31m         use_multiprocessing=use_multiprocessing)\n\u001b[0m\u001b[1;32m    820\u001b[0m \u001b[0;34m\u001b[0m\u001b[0m\n\u001b[1;32m    821\u001b[0m   def evaluate(self,\n",
            "\u001b[0;32m/tensorflow-2.1.0/python3.6/tensorflow_core/python/keras/engine/training_v2.py\u001b[0m in \u001b[0;36mfit\u001b[0;34m(self, model, x, y, batch_size, epochs, verbose, callbacks, validation_split, validation_data, shuffle, class_weight, sample_weight, initial_epoch, steps_per_epoch, validation_steps, validation_freq, max_queue_size, workers, use_multiprocessing, **kwargs)\u001b[0m\n\u001b[1;32m    340\u001b[0m                 \u001b[0mmode\u001b[0m\u001b[0;34m=\u001b[0m\u001b[0mModeKeys\u001b[0m\u001b[0;34m.\u001b[0m\u001b[0mTRAIN\u001b[0m\u001b[0;34m,\u001b[0m\u001b[0;34m\u001b[0m\u001b[0;34m\u001b[0m\u001b[0m\n\u001b[1;32m    341\u001b[0m                 \u001b[0mtraining_context\u001b[0m\u001b[0;34m=\u001b[0m\u001b[0mtraining_context\u001b[0m\u001b[0;34m,\u001b[0m\u001b[0;34m\u001b[0m\u001b[0;34m\u001b[0m\u001b[0m\n\u001b[0;32m--> 342\u001b[0;31m                 total_epochs=epochs)\n\u001b[0m\u001b[1;32m    343\u001b[0m             \u001b[0mcbks\u001b[0m\u001b[0;34m.\u001b[0m\u001b[0mmake_logs\u001b[0m\u001b[0;34m(\u001b[0m\u001b[0mmodel\u001b[0m\u001b[0;34m,\u001b[0m \u001b[0mepoch_logs\u001b[0m\u001b[0;34m,\u001b[0m \u001b[0mtraining_result\u001b[0m\u001b[0;34m,\u001b[0m \u001b[0mModeKeys\u001b[0m\u001b[0;34m.\u001b[0m\u001b[0mTRAIN\u001b[0m\u001b[0;34m)\u001b[0m\u001b[0;34m\u001b[0m\u001b[0;34m\u001b[0m\u001b[0m\n\u001b[1;32m    344\u001b[0m \u001b[0;34m\u001b[0m\u001b[0m\n",
            "\u001b[0;32m/tensorflow-2.1.0/python3.6/tensorflow_core/python/keras/engine/training_v2.py\u001b[0m in \u001b[0;36mrun_one_epoch\u001b[0;34m(model, iterator, execution_function, dataset_size, batch_size, strategy, steps_per_epoch, num_samples, mode, training_context, total_epochs)\u001b[0m\n\u001b[1;32m    126\u001b[0m         step=step, mode=mode, size=current_batch_size) as batch_logs:\n\u001b[1;32m    127\u001b[0m       \u001b[0;32mtry\u001b[0m\u001b[0;34m:\u001b[0m\u001b[0;34m\u001b[0m\u001b[0;34m\u001b[0m\u001b[0m\n\u001b[0;32m--> 128\u001b[0;31m         \u001b[0mbatch_outs\u001b[0m \u001b[0;34m=\u001b[0m \u001b[0mexecution_function\u001b[0m\u001b[0;34m(\u001b[0m\u001b[0miterator\u001b[0m\u001b[0;34m)\u001b[0m\u001b[0;34m\u001b[0m\u001b[0;34m\u001b[0m\u001b[0m\n\u001b[0m\u001b[1;32m    129\u001b[0m       \u001b[0;32mexcept\u001b[0m \u001b[0;34m(\u001b[0m\u001b[0mStopIteration\u001b[0m\u001b[0;34m,\u001b[0m \u001b[0merrors\u001b[0m\u001b[0;34m.\u001b[0m\u001b[0mOutOfRangeError\u001b[0m\u001b[0;34m)\u001b[0m\u001b[0;34m:\u001b[0m\u001b[0;34m\u001b[0m\u001b[0;34m\u001b[0m\u001b[0m\n\u001b[1;32m    130\u001b[0m         \u001b[0;31m# TODO(kaftan): File bug about tf function and errors.OutOfRangeError?\u001b[0m\u001b[0;34m\u001b[0m\u001b[0;34m\u001b[0m\u001b[0;34m\u001b[0m\u001b[0m\n",
            "\u001b[0;32m/tensorflow-2.1.0/python3.6/tensorflow_core/python/keras/engine/training_v2_utils.py\u001b[0m in \u001b[0;36mexecution_function\u001b[0;34m(input_fn)\u001b[0m\n\u001b[1;32m     96\u001b[0m     \u001b[0;31m# `numpy` translates Tensors to values in Eager mode.\u001b[0m\u001b[0;34m\u001b[0m\u001b[0;34m\u001b[0m\u001b[0;34m\u001b[0m\u001b[0m\n\u001b[1;32m     97\u001b[0m     return nest.map_structure(_non_none_constant_value,\n\u001b[0;32m---> 98\u001b[0;31m                               distributed_function(input_fn))\n\u001b[0m\u001b[1;32m     99\u001b[0m \u001b[0;34m\u001b[0m\u001b[0m\n\u001b[1;32m    100\u001b[0m   \u001b[0;32mreturn\u001b[0m \u001b[0mexecution_function\u001b[0m\u001b[0;34m\u001b[0m\u001b[0;34m\u001b[0m\u001b[0m\n",
            "\u001b[0;32m/tensorflow-2.1.0/python3.6/tensorflow_core/python/eager/def_function.py\u001b[0m in \u001b[0;36m__call__\u001b[0;34m(self, *args, **kwds)\u001b[0m\n\u001b[1;32m    566\u001b[0m         \u001b[0mxla_context\u001b[0m\u001b[0;34m.\u001b[0m\u001b[0mExit\u001b[0m\u001b[0;34m(\u001b[0m\u001b[0;34m)\u001b[0m\u001b[0;34m\u001b[0m\u001b[0;34m\u001b[0m\u001b[0m\n\u001b[1;32m    567\u001b[0m     \u001b[0;32melse\u001b[0m\u001b[0;34m:\u001b[0m\u001b[0;34m\u001b[0m\u001b[0;34m\u001b[0m\u001b[0m\n\u001b[0;32m--> 568\u001b[0;31m       \u001b[0mresult\u001b[0m \u001b[0;34m=\u001b[0m \u001b[0mself\u001b[0m\u001b[0;34m.\u001b[0m\u001b[0m_call\u001b[0m\u001b[0;34m(\u001b[0m\u001b[0;34m*\u001b[0m\u001b[0margs\u001b[0m\u001b[0;34m,\u001b[0m \u001b[0;34m**\u001b[0m\u001b[0mkwds\u001b[0m\u001b[0;34m)\u001b[0m\u001b[0;34m\u001b[0m\u001b[0;34m\u001b[0m\u001b[0m\n\u001b[0m\u001b[1;32m    569\u001b[0m \u001b[0;34m\u001b[0m\u001b[0m\n\u001b[1;32m    570\u001b[0m     \u001b[0;32mif\u001b[0m \u001b[0mtracing_count\u001b[0m \u001b[0;34m==\u001b[0m \u001b[0mself\u001b[0m\u001b[0;34m.\u001b[0m\u001b[0m_get_tracing_count\u001b[0m\u001b[0;34m(\u001b[0m\u001b[0;34m)\u001b[0m\u001b[0;34m:\u001b[0m\u001b[0;34m\u001b[0m\u001b[0;34m\u001b[0m\u001b[0m\n",
            "\u001b[0;32m/tensorflow-2.1.0/python3.6/tensorflow_core/python/eager/def_function.py\u001b[0m in \u001b[0;36m_call\u001b[0;34m(self, *args, **kwds)\u001b[0m\n\u001b[1;32m    597\u001b[0m       \u001b[0;31m# In this case we have created variables on the first call, so we run the\u001b[0m\u001b[0;34m\u001b[0m\u001b[0;34m\u001b[0m\u001b[0;34m\u001b[0m\u001b[0m\n\u001b[1;32m    598\u001b[0m       \u001b[0;31m# defunned version which is guaranteed to never create variables.\u001b[0m\u001b[0;34m\u001b[0m\u001b[0;34m\u001b[0m\u001b[0;34m\u001b[0m\u001b[0m\n\u001b[0;32m--> 599\u001b[0;31m       \u001b[0;32mreturn\u001b[0m \u001b[0mself\u001b[0m\u001b[0;34m.\u001b[0m\u001b[0m_stateless_fn\u001b[0m\u001b[0;34m(\u001b[0m\u001b[0;34m*\u001b[0m\u001b[0margs\u001b[0m\u001b[0;34m,\u001b[0m \u001b[0;34m**\u001b[0m\u001b[0mkwds\u001b[0m\u001b[0;34m)\u001b[0m  \u001b[0;31m# pylint: disable=not-callable\u001b[0m\u001b[0;34m\u001b[0m\u001b[0;34m\u001b[0m\u001b[0m\n\u001b[0m\u001b[1;32m    600\u001b[0m     \u001b[0;32melif\u001b[0m \u001b[0mself\u001b[0m\u001b[0;34m.\u001b[0m\u001b[0m_stateful_fn\u001b[0m \u001b[0;32mis\u001b[0m \u001b[0;32mnot\u001b[0m \u001b[0;32mNone\u001b[0m\u001b[0;34m:\u001b[0m\u001b[0;34m\u001b[0m\u001b[0;34m\u001b[0m\u001b[0m\n\u001b[1;32m    601\u001b[0m       \u001b[0;31m# Release the lock early so that multiple threads can perform the call\u001b[0m\u001b[0;34m\u001b[0m\u001b[0;34m\u001b[0m\u001b[0;34m\u001b[0m\u001b[0m\n",
            "\u001b[0;32m/tensorflow-2.1.0/python3.6/tensorflow_core/python/eager/function.py\u001b[0m in \u001b[0;36m__call__\u001b[0;34m(self, *args, **kwargs)\u001b[0m\n\u001b[1;32m   2361\u001b[0m     \u001b[0;32mwith\u001b[0m \u001b[0mself\u001b[0m\u001b[0;34m.\u001b[0m\u001b[0m_lock\u001b[0m\u001b[0;34m:\u001b[0m\u001b[0;34m\u001b[0m\u001b[0;34m\u001b[0m\u001b[0m\n\u001b[1;32m   2362\u001b[0m       \u001b[0mgraph_function\u001b[0m\u001b[0;34m,\u001b[0m \u001b[0margs\u001b[0m\u001b[0;34m,\u001b[0m \u001b[0mkwargs\u001b[0m \u001b[0;34m=\u001b[0m \u001b[0mself\u001b[0m\u001b[0;34m.\u001b[0m\u001b[0m_maybe_define_function\u001b[0m\u001b[0;34m(\u001b[0m\u001b[0margs\u001b[0m\u001b[0;34m,\u001b[0m \u001b[0mkwargs\u001b[0m\u001b[0;34m)\u001b[0m\u001b[0;34m\u001b[0m\u001b[0;34m\u001b[0m\u001b[0m\n\u001b[0;32m-> 2363\u001b[0;31m     \u001b[0;32mreturn\u001b[0m \u001b[0mgraph_function\u001b[0m\u001b[0;34m.\u001b[0m\u001b[0m_filtered_call\u001b[0m\u001b[0;34m(\u001b[0m\u001b[0margs\u001b[0m\u001b[0;34m,\u001b[0m \u001b[0mkwargs\u001b[0m\u001b[0;34m)\u001b[0m  \u001b[0;31m# pylint: disable=protected-access\u001b[0m\u001b[0;34m\u001b[0m\u001b[0;34m\u001b[0m\u001b[0m\n\u001b[0m\u001b[1;32m   2364\u001b[0m \u001b[0;34m\u001b[0m\u001b[0m\n\u001b[1;32m   2365\u001b[0m   \u001b[0;34m@\u001b[0m\u001b[0mproperty\u001b[0m\u001b[0;34m\u001b[0m\u001b[0;34m\u001b[0m\u001b[0m\n",
            "\u001b[0;32m/tensorflow-2.1.0/python3.6/tensorflow_core/python/eager/function.py\u001b[0m in \u001b[0;36m_filtered_call\u001b[0;34m(self, args, kwargs)\u001b[0m\n\u001b[1;32m   1609\u001b[0m          if isinstance(t, (ops.Tensor,\n\u001b[1;32m   1610\u001b[0m                            resource_variable_ops.BaseResourceVariable))),\n\u001b[0;32m-> 1611\u001b[0;31m         self.captured_inputs)\n\u001b[0m\u001b[1;32m   1612\u001b[0m \u001b[0;34m\u001b[0m\u001b[0m\n\u001b[1;32m   1613\u001b[0m   \u001b[0;32mdef\u001b[0m \u001b[0m_call_flat\u001b[0m\u001b[0;34m(\u001b[0m\u001b[0mself\u001b[0m\u001b[0;34m,\u001b[0m \u001b[0margs\u001b[0m\u001b[0;34m,\u001b[0m \u001b[0mcaptured_inputs\u001b[0m\u001b[0;34m,\u001b[0m \u001b[0mcancellation_manager\u001b[0m\u001b[0;34m=\u001b[0m\u001b[0;32mNone\u001b[0m\u001b[0;34m)\u001b[0m\u001b[0;34m:\u001b[0m\u001b[0;34m\u001b[0m\u001b[0;34m\u001b[0m\u001b[0m\n",
            "\u001b[0;32m/tensorflow-2.1.0/python3.6/tensorflow_core/python/eager/function.py\u001b[0m in \u001b[0;36m_call_flat\u001b[0;34m(self, args, captured_inputs, cancellation_manager)\u001b[0m\n\u001b[1;32m   1690\u001b[0m       \u001b[0;31m# No tape is watching; skip to running the function.\u001b[0m\u001b[0;34m\u001b[0m\u001b[0;34m\u001b[0m\u001b[0;34m\u001b[0m\u001b[0m\n\u001b[1;32m   1691\u001b[0m       return self._build_call_outputs(self._inference_function.call(\n\u001b[0;32m-> 1692\u001b[0;31m           ctx, args, cancellation_manager=cancellation_manager))\n\u001b[0m\u001b[1;32m   1693\u001b[0m     forward_backward = self._select_forward_and_backward_functions(\n\u001b[1;32m   1694\u001b[0m         \u001b[0margs\u001b[0m\u001b[0;34m,\u001b[0m\u001b[0;34m\u001b[0m\u001b[0;34m\u001b[0m\u001b[0m\n",
            "\u001b[0;32m/tensorflow-2.1.0/python3.6/tensorflow_core/python/eager/function.py\u001b[0m in \u001b[0;36mcall\u001b[0;34m(self, ctx, args, cancellation_manager)\u001b[0m\n\u001b[1;32m    543\u001b[0m               \u001b[0minputs\u001b[0m\u001b[0;34m=\u001b[0m\u001b[0margs\u001b[0m\u001b[0;34m,\u001b[0m\u001b[0;34m\u001b[0m\u001b[0;34m\u001b[0m\u001b[0m\n\u001b[1;32m    544\u001b[0m               \u001b[0mattrs\u001b[0m\u001b[0;34m=\u001b[0m\u001b[0;34m(\u001b[0m\u001b[0;34m\"executor_type\"\u001b[0m\u001b[0;34m,\u001b[0m \u001b[0mexecutor_type\u001b[0m\u001b[0;34m,\u001b[0m \u001b[0;34m\"config_proto\"\u001b[0m\u001b[0;34m,\u001b[0m \u001b[0mconfig\u001b[0m\u001b[0;34m)\u001b[0m\u001b[0;34m,\u001b[0m\u001b[0;34m\u001b[0m\u001b[0;34m\u001b[0m\u001b[0m\n\u001b[0;32m--> 545\u001b[0;31m               ctx=ctx)\n\u001b[0m\u001b[1;32m    546\u001b[0m         \u001b[0;32melse\u001b[0m\u001b[0;34m:\u001b[0m\u001b[0;34m\u001b[0m\u001b[0;34m\u001b[0m\u001b[0m\n\u001b[1;32m    547\u001b[0m           outputs = execute.execute_with_cancellation(\n",
            "\u001b[0;32m/tensorflow-2.1.0/python3.6/tensorflow_core/python/eager/execute.py\u001b[0m in \u001b[0;36mquick_execute\u001b[0;34m(op_name, num_outputs, inputs, attrs, ctx, name)\u001b[0m\n\u001b[1;32m     59\u001b[0m     tensors = pywrap_tensorflow.TFE_Py_Execute(ctx._handle, device_name,\n\u001b[1;32m     60\u001b[0m                                                \u001b[0mop_name\u001b[0m\u001b[0;34m,\u001b[0m \u001b[0minputs\u001b[0m\u001b[0;34m,\u001b[0m \u001b[0mattrs\u001b[0m\u001b[0;34m,\u001b[0m\u001b[0;34m\u001b[0m\u001b[0;34m\u001b[0m\u001b[0m\n\u001b[0;32m---> 61\u001b[0;31m                                                num_outputs)\n\u001b[0m\u001b[1;32m     62\u001b[0m   \u001b[0;32mexcept\u001b[0m \u001b[0mcore\u001b[0m\u001b[0;34m.\u001b[0m\u001b[0m_NotOkStatusException\u001b[0m \u001b[0;32mas\u001b[0m \u001b[0me\u001b[0m\u001b[0;34m:\u001b[0m\u001b[0;34m\u001b[0m\u001b[0;34m\u001b[0m\u001b[0m\n\u001b[1;32m     63\u001b[0m     \u001b[0;32mif\u001b[0m \u001b[0mname\u001b[0m \u001b[0;32mis\u001b[0m \u001b[0;32mnot\u001b[0m \u001b[0;32mNone\u001b[0m\u001b[0;34m:\u001b[0m\u001b[0;34m\u001b[0m\u001b[0;34m\u001b[0m\u001b[0m\n",
            "\u001b[0;31mKeyboardInterrupt\u001b[0m: "
          ]
        }
      ]
    },
    {
      "cell_type": "markdown",
      "metadata": {
        "id": "1YTxY5apAejX",
        "colab_type": "text"
      },
      "source": [
        ""
      ]
    },
    {
      "cell_type": "code",
      "metadata": {
        "id": "yzLMM8f03ykG",
        "colab_type": "code",
        "outputId": "39f80ed4-2782-48e9-ed9b-1e79ebf969d1",
        "colab": {
          "base_uri": "https://localhost:8080/",
          "height": 386
        }
      },
      "source": [
        "# We analyse the result:\n",
        "[train_loss, train_accuracy] = model.evaluate(x_train_small, r_train_small, verbose=0)\n",
        "print(\"Training set Accuracy:{:7.2f}\".format(train_accuracy))\n",
        "print(\"Training set Loss:{:7.4f}\\n\".format(train_loss))\n",
        "\n",
        "[val_loss, val_accuracy] = model.evaluate(x_val, r_val, verbose=0)\n",
        "print(\"Validation set Accuracy:{:7.2f}\".format(val_accuracy))\n",
        "print(\"Validation set Loss:{:7.4f}\\n\".format(val_loss))\n",
        "\n",
        "# Now we visualise what happened during training\n",
        "plot_history(history)"
      ],
      "execution_count": 22,
      "outputs": [
        {
          "output_type": "stream",
          "text": [
            "Training set Accuracy:   0.89\n",
            "Training set Loss: 0.3169\n",
            "\n",
            "Validation set Accuracy:   0.69\n",
            "Validation set Loss: 1.1649\n",
            "\n"
          ],
          "name": "stdout"
        },
        {
          "output_type": "display_data",
          "data": {
            "image/png": "[encoded data removed]",
            "text/plain": [
              "<Figure size 864x288 with 2 Axes>"
            ]
          },
          "metadata": {
            "tags": []
          }
        }
      ]
    },
    {
      "cell_type": "code",
      "metadata": {
        "id": "vhA1y-0_XIho",
        "colab_type": "code",
        "colab": {
          "base_uri": "https://localhost:8080/",
          "height": 1000
        },
        "outputId": "738e271f-72ff-419c-e9bd-a5048fe8a24e"
      },
      "source": [
        "# retrain on all data\n",
        "model = regularized_model(learning_rate=0.0005)\n",
        "model.summary()\n",
        "\n",
        "batch_size=256\n",
        "epochs=50\n",
        "\n",
        "history = model.fit(datagen.flow(x_train_all, r_train_all, batch_size=batch_size),\n",
        "          epochs=epochs,\n",
        "          shuffle=True)"
      ],
      "execution_count": 27,
      "outputs": [
        {
          "output_type": "stream",
          "text": [
            "Model: \"sequential_11\"\n",
            "_________________________________________________________________\n",
            "Layer (type)                 Output Shape              Param #   \n",
            "=================================================================\n",
            "conv2d_70 (Conv2D)           (None, 32, 32, 64)        1792      \n",
            "_________________________________________________________________\n",
            "batch_normalization_70 (Batc (None, 32, 32, 64)        256       \n",
            "_________________________________________________________________\n",
            "activation_81 (Activation)   (None, 32, 32, 64)        0         \n",
            "_________________________________________________________________\n",
            "conv2d_71 (Conv2D)           (None, 32, 32, 64)        36928     \n",
            "_________________________________________________________________\n",
            "batch_normalization_71 (Batc (None, 32, 32, 64)        256       \n",
            "_________________________________________________________________\n",
            "activation_82 (Activation)   (None, 32, 32, 64)        0         \n",
            "_________________________________________________________________\n",
            "max_pooling2d_35 (MaxPooling (None, 16, 16, 64)        0         \n",
            "_________________________________________________________________\n",
            "conv2d_72 (Conv2D)           (None, 16, 16, 128)       73856     \n",
            "_________________________________________________________________\n",
            "batch_normalization_72 (Batc (None, 16, 16, 128)       512       \n",
            "_________________________________________________________________\n",
            "activation_83 (Activation)   (None, 16, 16, 128)       0         \n",
            "_________________________________________________________________\n",
            "conv2d_73 (Conv2D)           (None, 16, 16, 128)       147584    \n",
            "_________________________________________________________________\n",
            "batch_normalization_73 (Batc (None, 16, 16, 128)       512       \n",
            "_________________________________________________________________\n",
            "activation_84 (Activation)   (None, 16, 16, 128)       0         \n",
            "_________________________________________________________________\n",
            "max_pooling2d_36 (MaxPooling (None, 8, 8, 128)         0         \n",
            "_________________________________________________________________\n",
            "conv2d_74 (Conv2D)           (None, 8, 8, 256)         295168    \n",
            "_________________________________________________________________\n",
            "batch_normalization_74 (Batc (None, 8, 8, 256)         1024      \n",
            "_________________________________________________________________\n",
            "activation_85 (Activation)   (None, 8, 8, 256)         0         \n",
            "_________________________________________________________________\n",
            "conv2d_75 (Conv2D)           (None, 8, 8, 256)         590080    \n",
            "_________________________________________________________________\n",
            "batch_normalization_75 (Batc (None, 8, 8, 256)         1024      \n",
            "_________________________________________________________________\n",
            "activation_86 (Activation)   (None, 8, 8, 256)         0         \n",
            "_________________________________________________________________\n",
            "max_pooling2d_37 (MaxPooling (None, 4, 4, 256)         0         \n",
            "_________________________________________________________________\n",
            "flatten_11 (Flatten)         (None, 4096)              0         \n",
            "_________________________________________________________________\n",
            "dropout_8 (Dropout)          (None, 4096)              0         \n",
            "_________________________________________________________________\n",
            "dense_11 (Dense)             (None, 20)                81940     \n",
            "_________________________________________________________________\n",
            "activation_87 (Activation)   (None, 20)                0         \n",
            "=================================================================\n",
            "Total params: 1,230,932\n",
            "Trainable params: 1,229,140\n",
            "Non-trainable params: 1,792\n",
            "_________________________________________________________________\n",
            "WARNING:tensorflow:sample_weight modes were coerced from\n",
            "  ...\n",
            "    to  \n",
            "  ['...']\n",
            "Train for 196 steps\n",
            "Epoch 1/50\n",
            "196/196 [==============================] - 33s 168ms/step - loss: 2.4624 - accuracy: 0.2779\n",
            "Epoch 2/50\n",
            "196/196 [==============================] - 32s 162ms/step - loss: 2.0095 - accuracy: 0.3842\n",
            "Epoch 3/50\n",
            "196/196 [==============================] - 32s 162ms/step - loss: 1.7983 - accuracy: 0.4432\n",
            "Epoch 4/50\n",
            "196/196 [==============================] - 32s 162ms/step - loss: 1.6484 - accuracy: 0.4848\n",
            "Epoch 5/50\n",
            "196/196 [==============================] - 32s 162ms/step - loss: 1.5344 - accuracy: 0.5203\n",
            "Epoch 6/50\n",
            "196/196 [==============================] - 32s 162ms/step - loss: 1.4444 - accuracy: 0.5447\n",
            "Epoch 7/50\n",
            "196/196 [==============================] - 32s 161ms/step - loss: 1.3586 - accuracy: 0.5698\n",
            "Epoch 8/50\n",
            "196/196 [==============================] - 32s 162ms/step - loss: 1.2910 - accuracy: 0.5885\n",
            "Epoch 9/50\n",
            "196/196 [==============================] - 32s 162ms/step - loss: 1.2167 - accuracy: 0.6114\n",
            "Epoch 10/50\n",
            "196/196 [==============================] - 32s 161ms/step - loss: 1.1677 - accuracy: 0.6278\n",
            "Epoch 11/50\n",
            "196/196 [==============================] - 32s 161ms/step - loss: 1.1153 - accuracy: 0.6424\n",
            "Epoch 12/50\n",
            "196/196 [==============================] - 32s 161ms/step - loss: 1.0726 - accuracy: 0.6561\n",
            "Epoch 13/50\n",
            "196/196 [==============================] - 32s 161ms/step - loss: 1.0233 - accuracy: 0.6715\n",
            "Epoch 14/50\n",
            "196/196 [==============================] - 32s 162ms/step - loss: 0.9823 - accuracy: 0.6833\n",
            "Epoch 15/50\n",
            "196/196 [==============================] - 32s 162ms/step - loss: 0.9496 - accuracy: 0.6925\n",
            "Epoch 16/50\n",
            "196/196 [==============================] - 32s 162ms/step - loss: 0.9172 - accuracy: 0.7031\n",
            "Epoch 17/50\n",
            "196/196 [==============================] - 32s 162ms/step - loss: 0.8878 - accuracy: 0.7129\n",
            "Epoch 18/50\n",
            "196/196 [==============================] - 32s 162ms/step - loss: 0.8492 - accuracy: 0.7251\n",
            "Epoch 19/50\n",
            "196/196 [==============================] - 32s 163ms/step - loss: 0.8207 - accuracy: 0.7337\n",
            "Epoch 20/50\n",
            "196/196 [==============================] - 32s 162ms/step - loss: 0.7894 - accuracy: 0.7415\n",
            "Epoch 21/50\n",
            "196/196 [==============================] - 32s 162ms/step - loss: 0.7620 - accuracy: 0.7526\n",
            "Epoch 22/50\n",
            "196/196 [==============================] - 32s 162ms/step - loss: 0.7468 - accuracy: 0.7552\n",
            "Epoch 23/50\n",
            "196/196 [==============================] - 32s 162ms/step - loss: 0.7135 - accuracy: 0.7643\n",
            "Epoch 24/50\n",
            "196/196 [==============================] - 32s 161ms/step - loss: 0.6927 - accuracy: 0.7730\n",
            "Epoch 25/50\n",
            "196/196 [==============================] - 32s 162ms/step - loss: 0.6722 - accuracy: 0.7771\n",
            "Epoch 26/50\n",
            "196/196 [==============================] - 32s 161ms/step - loss: 0.6505 - accuracy: 0.7856\n",
            "Epoch 27/50\n",
            "196/196 [==============================] - 32s 161ms/step - loss: 0.6349 - accuracy: 0.7916\n",
            "Epoch 28/50\n",
            "196/196 [==============================] - 32s 161ms/step - loss: 0.6085 - accuracy: 0.7973\n",
            "Epoch 29/50\n",
            "196/196 [==============================] - 32s 162ms/step - loss: 0.5904 - accuracy: 0.8040\n",
            "Epoch 30/50\n",
            "196/196 [==============================] - 32s 161ms/step - loss: 0.5750 - accuracy: 0.8093\n",
            "Epoch 31/50\n",
            "196/196 [==============================] - 32s 161ms/step - loss: 0.5605 - accuracy: 0.8145\n",
            "Epoch 32/50\n",
            "196/196 [==============================] - 32s 161ms/step - loss: 0.5404 - accuracy: 0.8206\n",
            "Epoch 33/50\n",
            "196/196 [==============================] - 32s 162ms/step - loss: 0.5243 - accuracy: 0.8250\n",
            "Epoch 34/50\n",
            "196/196 [==============================] - 31s 161ms/step - loss: 0.5064 - accuracy: 0.8303\n",
            "Epoch 35/50\n",
            "196/196 [==============================] - 31s 161ms/step - loss: 0.4911 - accuracy: 0.8363\n",
            "Epoch 36/50\n",
            "196/196 [==============================] - 31s 161ms/step - loss: 0.4859 - accuracy: 0.8390\n",
            "Epoch 37/50\n",
            "196/196 [==============================] - 31s 160ms/step - loss: 0.4684 - accuracy: 0.8437\n",
            "Epoch 38/50\n",
            "196/196 [==============================] - 32s 161ms/step - loss: 0.4458 - accuracy: 0.8515\n",
            "Epoch 39/50\n",
            "196/196 [==============================] - 32s 161ms/step - loss: 0.4388 - accuracy: 0.8526\n",
            "Epoch 40/50\n",
            "196/196 [==============================] - 31s 161ms/step - loss: 0.4351 - accuracy: 0.8536\n",
            "Epoch 41/50\n",
            "196/196 [==============================] - 31s 160ms/step - loss: 0.4169 - accuracy: 0.8605\n",
            "Epoch 42/50\n",
            "196/196 [==============================] - 32s 161ms/step - loss: 0.4031 - accuracy: 0.8647\n",
            "Epoch 43/50\n",
            "196/196 [==============================] - 32s 161ms/step - loss: 0.4014 - accuracy: 0.8648\n",
            "Epoch 44/50\n",
            "196/196 [==============================] - 31s 160ms/step - loss: 0.3847 - accuracy: 0.8709\n",
            "Epoch 45/50\n",
            "196/196 [==============================] - 31s 160ms/step - loss: 0.3727 - accuracy: 0.8733\n",
            "Epoch 46/50\n",
            "196/196 [==============================] - 31s 160ms/step - loss: 0.3598 - accuracy: 0.8782\n",
            "Epoch 47/50\n",
            "196/196 [==============================] - 31s 160ms/step - loss: 0.3612 - accuracy: 0.8771\n",
            "Epoch 48/50\n",
            "196/196 [==============================] - 31s 161ms/step - loss: 0.3467 - accuracy: 0.8818\n",
            "Epoch 49/50\n",
            "196/196 [==============================] - 32s 161ms/step - loss: 0.3409 - accuracy: 0.8842\n",
            "Epoch 50/50\n",
            "196/196 [==============================] - 32s 161ms/step - loss: 0.3249 - accuracy: 0.8886\n"
          ],
          "name": "stdout"
        }
      ]
    },
    {
      "cell_type": "code",
      "metadata": {
        "id": "aelIvBIVnfmz",
        "colab_type": "code",
        "colab": {
          "base_uri": "https://localhost:8080/",
          "height": 296
        },
        "outputId": "ae414f33-5b0a-4a4c-e69e-be086d675029"
      },
      "source": [
        "plt.figure(figsize = (12,4))\n",
        "plt.subplot(1,2,1)\n",
        "\n",
        "plt.xlabel('Epoch')\n",
        "plt.ylabel('Accuracy')\n",
        "plt.plot(history.epoch, np.array(history.history['accuracy']),'g-',\n",
        "        label='Train accuracy')\n",
        "plt.legend()\n",
        "\n",
        "plt.subplot(1,2,2)\n",
        "plt.xlabel('Epoch')\n",
        "plt.ylabel('Loss minimised by model')\n",
        "plt.plot(history.epoch, np.array(history.history['loss']),'g-',\n",
        "        label='Train loss')\n",
        "plt.legend()"
      ],
      "execution_count": 28,
      "outputs": [
        {
          "output_type": "execute_result",
          "data": {
            "text/plain": [
              "<matplotlib.legend.Legend at 0x7f751d19b320>"
            ]
          },
          "metadata": {
            "tags": []
          },
          "execution_count": 28
        },
        {
          "output_type": "display_data",
          "data": {
            "image/png": "[encoded data removed]",
            "text/plain": [
              "<Figure size 864x288 with 2 Axes>"
            ]
          },
          "metadata": {
            "tags": []
          }
        }
      ]
    },
    {
      "cell_type": "code",
      "metadata": {
        "id": "Z-jGd1lhnmXB",
        "colab_type": "code",
        "colab": {
          "base_uri": "https://localhost:8080/",
          "height": 34
        },
        "outputId": "afd7bf5e-cc23-4f14-b40c-f802d3e93b28"
      },
      "source": [
        "# the file type for storing complete models is \".h5\"\n",
        "# feel free to change the path to whatever suits you best!\n",
        "checkpoint_dir = \"/content/gdrive/My Drive/Colab Notebooks/DL2020/GA2/\"\n",
        "modelpath = checkpoint_dir+\"final_model.h5\"\n",
        "print(\"Final model saved as \",modelpath)\n",
        "\n",
        "# Save entire model to a HDF5 file\n",
        "model.save(modelpath)"
      ],
      "execution_count": 29,
      "outputs": [
        {
          "output_type": "stream",
          "text": [
            "Final model saved as  /content/gdrive/My Drive/Colab Notebooks/DL2020/GA2/final_model.h5\n"
          ],
          "name": "stdout"
        }
      ]
    },
    {
      "cell_type": "code",
      "metadata": {
        "id": "T1Lw_O4Vn0sZ",
        "colab_type": "code",
        "colab": {
          "base_uri": "https://localhost:8080/",
          "height": 69
        },
        "outputId": "319213b5-75d1-4422-f9fc-abc5a60346c5"
      },
      "source": [
        "# The code below should give the same results as that for the original model\n",
        "[train_loss, train_accuracy] = model.evaluate(x_train_all, r_train_all, verbose=0)\n",
        "print(\"Training set Accuracy:{:7.2f}\".format(train_accuracy))\n",
        "print(\"Training set Loss:{:7.4f}\\n\".format(train_loss))"
      ],
      "execution_count": 31,
      "outputs": [
        {
          "output_type": "stream",
          "text": [
            "Training set Accuracy:   0.92\n",
            "Training set Loss: 0.2345\n",
            "\n"
          ],
          "name": "stdout"
        }
      ]
    }
  ]
}